{
 "cells": [
  {
   "attachments": {},
   "cell_type": "markdown",
   "metadata": {},
   "source": [
    "<h1><b><u> Machine Learning Coursework: Asaph Kalala </u></b></h1> \n",
    "\n",
    "I worked and submitted alone on this coursework.\n",
    "\n",
    "<h2><u><b> Introduction </b></u></h2>\n",
    "\n",
    " This Jypyter notebook is about energy efficiency prediction. I will be analysing a dataset consisting of different building shapes with different characteristics, and the objective will be to predict the heating load of the building. The dataset contains 9 features and an outcome variable which needs to be predicted. The analysis will include data inspection and visualisation, data preprocessing, data transformations, treatment of missing values, feature selection and will implement various regression models. I will tune the models using the training set and select the best performing two models which will then be evaluated on the test set. \n",
    "\n"
   ]
  },
  {
   "cell_type": "code",
   "execution_count": 236,
   "metadata": {},
   "outputs": [
    {
     "data": {
      "text/html": [
       "<div>\n",
       "<style scoped>\n",
       "    .dataframe tbody tr th:only-of-type {\n",
       "        vertical-align: middle;\n",
       "    }\n",
       "\n",
       "    .dataframe tbody tr th {\n",
       "        vertical-align: top;\n",
       "    }\n",
       "\n",
       "    .dataframe thead th {\n",
       "        text-align: right;\n",
       "    }\n",
       "</style>\n",
       "<table border=\"1\" class=\"dataframe\">\n",
       "  <thead>\n",
       "    <tr style=\"text-align: right;\">\n",
       "      <th></th>\n",
       "      <th>X1</th>\n",
       "      <th>X2</th>\n",
       "      <th>X3</th>\n",
       "      <th>X4</th>\n",
       "      <th>X5</th>\n",
       "      <th>X6</th>\n",
       "      <th>X7</th>\n",
       "      <th>X8</th>\n",
       "      <th>Y</th>\n",
       "    </tr>\n",
       "  </thead>\n",
       "  <tbody>\n",
       "    <tr>\n",
       "      <th>count</th>\n",
       "      <td>768.000000</td>\n",
       "      <td>768.000000</td>\n",
       "      <td>728.000000</td>\n",
       "      <td>768.000000</td>\n",
       "      <td>768.000000</td>\n",
       "      <td>768.000000</td>\n",
       "      <td>768.000000</td>\n",
       "      <td>768.000000</td>\n",
       "      <td>768.000000</td>\n",
       "    </tr>\n",
       "    <tr>\n",
       "      <th>mean</th>\n",
       "      <td>0.763516</td>\n",
       "      <td>666.768997</td>\n",
       "      <td>321.102527</td>\n",
       "      <td>176.564141</td>\n",
       "      <td>5.229766</td>\n",
       "      <td>3.527331</td>\n",
       "      <td>0.237852</td>\n",
       "      <td>2.803737</td>\n",
       "      <td>22.307201</td>\n",
       "    </tr>\n",
       "    <tr>\n",
       "      <th>std</th>\n",
       "      <td>0.147093</td>\n",
       "      <td>120.863329</td>\n",
       "      <td>60.479340</td>\n",
       "      <td>51.280618</td>\n",
       "      <td>1.844813</td>\n",
       "      <td>1.245710</td>\n",
       "      <td>0.139736</td>\n",
       "      <td>1.597817</td>\n",
       "      <td>10.090196</td>\n",
       "    </tr>\n",
       "    <tr>\n",
       "      <th>min</th>\n",
       "      <td>0.500000</td>\n",
       "      <td>416.740000</td>\n",
       "      <td>198.450000</td>\n",
       "      <td>89.310000</td>\n",
       "      <td>2.840000</td>\n",
       "      <td>1.620000</td>\n",
       "      <td>0.000000</td>\n",
       "      <td>0.000000</td>\n",
       "      <td>6.010000</td>\n",
       "    </tr>\n",
       "    <tr>\n",
       "      <th>25%</th>\n",
       "      <td>0.650000</td>\n",
       "      <td>575.510000</td>\n",
       "      <td>277.830000</td>\n",
       "      <td>132.300000</td>\n",
       "      <td>3.470000</td>\n",
       "      <td>2.427500</td>\n",
       "      <td>0.100000</td>\n",
       "      <td>1.517500</td>\n",
       "      <td>12.992500</td>\n",
       "    </tr>\n",
       "    <tr>\n",
       "      <th>50%</th>\n",
       "      <td>0.750000</td>\n",
       "      <td>661.500000</td>\n",
       "      <td>315.320000</td>\n",
       "      <td>178.235000</td>\n",
       "      <td>4.955000</td>\n",
       "      <td>3.600000</td>\n",
       "      <td>0.240000</td>\n",
       "      <td>2.970000</td>\n",
       "      <td>18.950000</td>\n",
       "    </tr>\n",
       "    <tr>\n",
       "      <th>75%</th>\n",
       "      <td>0.860000</td>\n",
       "      <td>741.130000</td>\n",
       "      <td>355.740000</td>\n",
       "      <td>218.300000</td>\n",
       "      <td>6.930000</td>\n",
       "      <td>4.425000</td>\n",
       "      <td>0.360000</td>\n",
       "      <td>3.960000</td>\n",
       "      <td>31.667500</td>\n",
       "    </tr>\n",
       "    <tr>\n",
       "      <th>max</th>\n",
       "      <td>1.190000</td>\n",
       "      <td>978.290000</td>\n",
       "      <td>503.970000</td>\n",
       "      <td>266.800000</td>\n",
       "      <td>8.470000</td>\n",
       "      <td>6.050000</td>\n",
       "      <td>0.480000</td>\n",
       "      <td>6.050000</td>\n",
       "      <td>43.100000</td>\n",
       "    </tr>\n",
       "  </tbody>\n",
       "</table>\n",
       "</div>"
      ],
      "text/plain": [
       "               X1          X2          X3          X4          X5          X6  \\\n",
       "count  768.000000  768.000000  728.000000  768.000000  768.000000  768.000000   \n",
       "mean     0.763516  666.768997  321.102527  176.564141    5.229766    3.527331   \n",
       "std      0.147093  120.863329   60.479340   51.280618    1.844813    1.245710   \n",
       "min      0.500000  416.740000  198.450000   89.310000    2.840000    1.620000   \n",
       "25%      0.650000  575.510000  277.830000  132.300000    3.470000    2.427500   \n",
       "50%      0.750000  661.500000  315.320000  178.235000    4.955000    3.600000   \n",
       "75%      0.860000  741.130000  355.740000  218.300000    6.930000    4.425000   \n",
       "max      1.190000  978.290000  503.970000  266.800000    8.470000    6.050000   \n",
       "\n",
       "               X7          X8           Y  \n",
       "count  768.000000  768.000000  768.000000  \n",
       "mean     0.237852    2.803737   22.307201  \n",
       "std      0.139736    1.597817   10.090196  \n",
       "min      0.000000    0.000000    6.010000  \n",
       "25%      0.100000    1.517500   12.992500  \n",
       "50%      0.240000    2.970000   18.950000  \n",
       "75%      0.360000    3.960000   31.667500  \n",
       "max      0.480000    6.050000   43.100000  "
      ]
     },
     "execution_count": 236,
     "metadata": {},
     "output_type": "execute_result"
    }
   ],
   "source": [
    "\n",
    "import sklearn\n",
    "from sklearn.model_selection import train_test_split\n",
    "from sklearn.linear_model import LinearRegression\n",
    "from sklearn.metrics import mean_squared_error\n",
    "import numpy as np \n",
    "import pandas as pd \n",
    "%matplotlib inline\n",
    "import matplotlib as mpl\n",
    "import matplotlib.pyplot as plt\n",
    "\n",
    "# Load the data\n",
    "data = pd.read_csv('datcw_na.csv')\n",
    "\n",
    "#Returns description of the data in the DataFrame and distributions of variables\n",
    "data.describe()"
   ]
  },
  {
   "cell_type": "code",
   "execution_count": 59,
   "metadata": {},
   "outputs": [
    {
     "data": {
      "text/html": [
       "<div>\n",
       "<style scoped>\n",
       "    .dataframe tbody tr th:only-of-type {\n",
       "        vertical-align: middle;\n",
       "    }\n",
       "\n",
       "    .dataframe tbody tr th {\n",
       "        vertical-align: top;\n",
       "    }\n",
       "\n",
       "    .dataframe thead th {\n",
       "        text-align: right;\n",
       "    }\n",
       "</style>\n",
       "<table border=\"1\" class=\"dataframe\">\n",
       "  <thead>\n",
       "    <tr style=\"text-align: right;\">\n",
       "      <th></th>\n",
       "      <th>X0</th>\n",
       "      <th>X1</th>\n",
       "      <th>X2</th>\n",
       "      <th>X3</th>\n",
       "      <th>X4</th>\n",
       "      <th>X5</th>\n",
       "      <th>X6</th>\n",
       "      <th>X7</th>\n",
       "      <th>X8</th>\n",
       "      <th>Y</th>\n",
       "    </tr>\n",
       "  </thead>\n",
       "  <tbody>\n",
       "    <tr>\n",
       "      <th>0</th>\n",
       "      <td>C3</td>\n",
       "      <td>1.19</td>\n",
       "      <td>622.55</td>\n",
       "      <td>NaN</td>\n",
       "      <td>89.31</td>\n",
       "      <td>7.00</td>\n",
       "      <td>1.98</td>\n",
       "      <td>0.0</td>\n",
       "      <td>0.0</td>\n",
       "      <td>15.55</td>\n",
       "    </tr>\n",
       "    <tr>\n",
       "      <th>1</th>\n",
       "      <td>C1</td>\n",
       "      <td>1.19</td>\n",
       "      <td>622.55</td>\n",
       "      <td>323.40</td>\n",
       "      <td>109.15</td>\n",
       "      <td>7.70</td>\n",
       "      <td>3.00</td>\n",
       "      <td>0.0</td>\n",
       "      <td>0.0</td>\n",
       "      <td>15.55</td>\n",
       "    </tr>\n",
       "    <tr>\n",
       "      <th>2</th>\n",
       "      <td>C1</td>\n",
       "      <td>0.88</td>\n",
       "      <td>463.05</td>\n",
       "      <td>291.06</td>\n",
       "      <td>99.23</td>\n",
       "      <td>5.67</td>\n",
       "      <td>4.40</td>\n",
       "      <td>0.0</td>\n",
       "      <td>0.0</td>\n",
       "      <td>15.55</td>\n",
       "    </tr>\n",
       "    <tr>\n",
       "      <th>3</th>\n",
       "      <td>C2</td>\n",
       "      <td>0.79</td>\n",
       "      <td>509.36</td>\n",
       "      <td>291.06</td>\n",
       "      <td>121.28</td>\n",
       "      <td>6.30</td>\n",
       "      <td>4.05</td>\n",
       "      <td>0.0</td>\n",
       "      <td>0.0</td>\n",
       "      <td>15.55</td>\n",
       "    </tr>\n",
       "    <tr>\n",
       "      <th>4</th>\n",
       "      <td>C1</td>\n",
       "      <td>0.89</td>\n",
       "      <td>507.15</td>\n",
       "      <td>385.39</td>\n",
       "      <td>121.28</td>\n",
       "      <td>7.70</td>\n",
       "      <td>2.00</td>\n",
       "      <td>0.0</td>\n",
       "      <td>0.0</td>\n",
       "      <td>20.84</td>\n",
       "    </tr>\n",
       "  </tbody>\n",
       "</table>\n",
       "</div>"
      ],
      "text/plain": [
       "   X0    X1      X2      X3      X4    X5    X6   X7   X8      Y\n",
       "0  C3  1.19  622.55     NaN   89.31  7.00  1.98  0.0  0.0  15.55\n",
       "1  C1  1.19  622.55  323.40  109.15  7.70  3.00  0.0  0.0  15.55\n",
       "2  C1  0.88  463.05  291.06   99.23  5.67  4.40  0.0  0.0  15.55\n",
       "3  C2  0.79  509.36  291.06  121.28  6.30  4.05  0.0  0.0  15.55\n",
       "4  C1  0.89  507.15  385.39  121.28  7.70  2.00  0.0  0.0  20.84"
      ]
     },
     "execution_count": 59,
     "metadata": {},
     "output_type": "execute_result"
    }
   ],
   "source": [
    "#Shows first 5 records in csv file\n",
    "data.head()"
   ]
  },
  {
   "cell_type": "code",
   "execution_count": 60,
   "metadata": {},
   "outputs": [
    {
     "name": "stdout",
     "output_type": "stream",
     "text": [
      "<class 'pandas.core.frame.DataFrame'>\n",
      "RangeIndex: 768 entries, 0 to 767\n",
      "Data columns (total 10 columns):\n",
      " #   Column  Non-Null Count  Dtype  \n",
      "---  ------  --------------  -----  \n",
      " 0   X0      768 non-null    object \n",
      " 1   X1      768 non-null    float64\n",
      " 2   X2      768 non-null    float64\n",
      " 3   X3      728 non-null    float64\n",
      " 4   X4      768 non-null    float64\n",
      " 5   X5      768 non-null    float64\n",
      " 6   X6      768 non-null    float64\n",
      " 7   X7      768 non-null    float64\n",
      " 8   X8      768 non-null    float64\n",
      " 9   Y       768 non-null    float64\n",
      "dtypes: float64(9), object(1)\n",
      "memory usage: 60.1+ KB\n"
     ]
    }
   ],
   "source": [
    "#Shows what data tpye of the columns \n",
    "data.info()"
   ]
  },
  {
   "cell_type": "code",
   "execution_count": 62,
   "metadata": {},
   "outputs": [
    {
     "data": {
      "image/png": "[encoded data removed]",
      "text/plain": [
       "<Figure size 2000x1500 with 9 Axes>"
      ]
     },
     "metadata": {},
     "output_type": "display_data"
    }
   ],
   "source": [
    "# Plots histograms\n",
    "%matplotlib inline\n",
    "import matplotlib.pyplot as plt\n",
    "data.hist(bins=50, figsize=(20,15))\n",
    "plt.show()"
   ]
  },
  {
   "cell_type": "code",
   "execution_count": null,
   "metadata": {},
   "outputs": [
    {
     "name": "stderr",
     "output_type": "stream",
     "text": [
      "C:\\Users\\asaph\\AppData\\Local\\Temp\\ipykernel_11800\\4057528716.py:2: FutureWarning: The default value of numeric_only in DataFrame.corr is deprecated. In a future version, it will default to False. Select only valid columns or specify the value of numeric_only to silence this warning.\n",
      "  corr_matrix = data.corr()\n"
     ]
    },
    {
     "data": {
      "text/plain": [
       "Y     1.000000\n",
       "X5    0.815769\n",
       "X1    0.454177\n",
       "X3    0.312449\n",
       "X7    0.255901\n",
       "X8    0.087106\n",
       "X6    0.001340\n",
       "X2   -0.481192\n",
       "X4   -0.771040\n",
       "Name: Y, dtype: float64"
      ]
     },
     "execution_count": 5,
     "metadata": {},
     "output_type": "execute_result"
    }
   ],
   "source": [
    "# Shows the correlations of the specific heat capcity (\"Y\") to other variables\n",
    "corr_matrix = data.corr()\n",
    "corr_matrix[\"Y\"].sort_values(ascending=False)"
   ]
  },
  {
   "cell_type": "code",
   "execution_count": null,
   "metadata": {},
   "outputs": [],
   "source": [
    "# To make this notebook's output identical at every run\n",
    "from sklearn.model_selection import train_test_split\n",
    "train_set, test_set = train_test_split(data, test_size=0.3, random_state=42)"
   ]
  },
  {
   "cell_type": "code",
   "execution_count": null,
   "metadata": {},
   "outputs": [],
   "source": [
    "data = train_set.drop(\"Y\", axis=1) # drop labels for training set\n",
    "data_labels = train_set[\"Y\"].copy()"
   ]
  },
  {
   "cell_type": "code",
   "execution_count": null,
   "metadata": {},
   "outputs": [
    {
     "data": {
      "text/html": [
       "<div>\n",
       "<style scoped>\n",
       "    .dataframe tbody tr th:only-of-type {\n",
       "        vertical-align: middle;\n",
       "    }\n",
       "\n",
       "    .dataframe tbody tr th {\n",
       "        vertical-align: top;\n",
       "    }\n",
       "\n",
       "    .dataframe thead th {\n",
       "        text-align: right;\n",
       "    }\n",
       "</style>\n",
       "<table border=\"1\" class=\"dataframe\">\n",
       "  <thead>\n",
       "    <tr style=\"text-align: right;\">\n",
       "      <th></th>\n",
       "      <th>X0</th>\n",
       "      <th>X1</th>\n",
       "      <th>X2</th>\n",
       "      <th>X3</th>\n",
       "      <th>X4</th>\n",
       "      <th>X5</th>\n",
       "      <th>X6</th>\n",
       "      <th>X7</th>\n",
       "      <th>X8</th>\n",
       "      <th>Y</th>\n",
       "    </tr>\n",
       "  </thead>\n",
       "  <tbody>\n",
       "    <tr>\n",
       "      <th>0</th>\n",
       "      <td>C3</td>\n",
       "      <td>1.19</td>\n",
       "      <td>622.55</td>\n",
       "      <td>NaN</td>\n",
       "      <td>89.31</td>\n",
       "      <td>7.00</td>\n",
       "      <td>1.98</td>\n",
       "      <td>0.00</td>\n",
       "      <td>0.00</td>\n",
       "      <td>15.55</td>\n",
       "    </tr>\n",
       "    <tr>\n",
       "      <th>34</th>\n",
       "      <td>C1</td>\n",
       "      <td>0.68</td>\n",
       "      <td>661.50</td>\n",
       "      <td>NaN</td>\n",
       "      <td>178.60</td>\n",
       "      <td>3.47</td>\n",
       "      <td>4.40</td>\n",
       "      <td>0.00</td>\n",
       "      <td>0.00</td>\n",
       "      <td>6.77</td>\n",
       "    </tr>\n",
       "    <tr>\n",
       "      <th>88</th>\n",
       "      <td>C2</td>\n",
       "      <td>0.64</td>\n",
       "      <td>776.16</td>\n",
       "      <td>NaN</td>\n",
       "      <td>242.55</td>\n",
       "      <td>3.85</td>\n",
       "      <td>1.80</td>\n",
       "      <td>0.10</td>\n",
       "      <td>1.10</td>\n",
       "      <td>15.41</td>\n",
       "    </tr>\n",
       "    <tr>\n",
       "      <th>121</th>\n",
       "      <td>C3</td>\n",
       "      <td>0.73</td>\n",
       "      <td>617.40</td>\n",
       "      <td>NaN</td>\n",
       "      <td>218.30</td>\n",
       "      <td>3.47</td>\n",
       "      <td>2.43</td>\n",
       "      <td>0.09</td>\n",
       "      <td>2.00</td>\n",
       "      <td>10.46</td>\n",
       "    </tr>\n",
       "    <tr>\n",
       "      <th>168</th>\n",
       "      <td>C1</td>\n",
       "      <td>0.67</td>\n",
       "      <td>754.60</td>\n",
       "      <td>NaN</td>\n",
       "      <td>242.55</td>\n",
       "      <td>3.47</td>\n",
       "      <td>1.98</td>\n",
       "      <td>0.11</td>\n",
       "      <td>2.43</td>\n",
       "      <td>10.39</td>\n",
       "    </tr>\n",
       "    <tr>\n",
       "      <th>224</th>\n",
       "      <td>C3</td>\n",
       "      <td>0.68</td>\n",
       "      <td>661.50</td>\n",
       "      <td>NaN</td>\n",
       "      <td>198.45</td>\n",
       "      <td>2.84</td>\n",
       "      <td>1.80</td>\n",
       "      <td>0.12</td>\n",
       "      <td>4.40</td>\n",
       "      <td>11.18</td>\n",
       "    </tr>\n",
       "    <tr>\n",
       "      <th>278</th>\n",
       "      <td>C2</td>\n",
       "      <td>0.53</td>\n",
       "      <td>919.00</td>\n",
       "      <td>NaN</td>\n",
       "      <td>218.30</td>\n",
       "      <td>3.85</td>\n",
       "      <td>3.96</td>\n",
       "      <td>0.10</td>\n",
       "      <td>5.50</td>\n",
       "      <td>11.22</td>\n",
       "    </tr>\n",
       "    <tr>\n",
       "      <th>282</th>\n",
       "      <td>C2</td>\n",
       "      <td>0.70</td>\n",
       "      <td>705.60</td>\n",
       "      <td>NaN</td>\n",
       "      <td>242.55</td>\n",
       "      <td>3.47</td>\n",
       "      <td>3.96</td>\n",
       "      <td>0.11</td>\n",
       "      <td>4.95</td>\n",
       "      <td>15.12</td>\n",
       "    </tr>\n",
       "    <tr>\n",
       "      <th>296</th>\n",
       "      <td>C3</td>\n",
       "      <td>0.85</td>\n",
       "      <td>582.12</td>\n",
       "      <td>NaN</td>\n",
       "      <td>161.70</td>\n",
       "      <td>6.30</td>\n",
       "      <td>1.98</td>\n",
       "      <td>0.28</td>\n",
       "      <td>1.10</td>\n",
       "      <td>29.54</td>\n",
       "    </tr>\n",
       "    <tr>\n",
       "      <th>313</th>\n",
       "      <td>C1</td>\n",
       "      <td>0.74</td>\n",
       "      <td>679.14</td>\n",
       "      <td>NaN</td>\n",
       "      <td>242.55</td>\n",
       "      <td>3.15</td>\n",
       "      <td>3.30</td>\n",
       "      <td>0.24</td>\n",
       "      <td>0.90</td>\n",
       "      <td>12.50</td>\n",
       "    </tr>\n",
       "    <tr>\n",
       "      <th>328</th>\n",
       "      <td>C3</td>\n",
       "      <td>0.77</td>\n",
       "      <td>862.40</td>\n",
       "      <td>NaN</td>\n",
       "      <td>218.30</td>\n",
       "      <td>4.24</td>\n",
       "      <td>2.42</td>\n",
       "      <td>0.31</td>\n",
       "      <td>0.99</td>\n",
       "      <td>17.50</td>\n",
       "    </tr>\n",
       "    <tr>\n",
       "      <th>333</th>\n",
       "      <td>C1</td>\n",
       "      <td>0.68</td>\n",
       "      <td>727.65</td>\n",
       "      <td>NaN</td>\n",
       "      <td>242.55</td>\n",
       "      <td>3.47</td>\n",
       "      <td>2.70</td>\n",
       "      <td>0.20</td>\n",
       "      <td>0.99</td>\n",
       "      <td>15.12</td>\n",
       "    </tr>\n",
       "    <tr>\n",
       "      <th>345</th>\n",
       "      <td>C2</td>\n",
       "      <td>0.85</td>\n",
       "      <td>582.12</td>\n",
       "      <td>NaN</td>\n",
       "      <td>177.87</td>\n",
       "      <td>6.30</td>\n",
       "      <td>2.97</td>\n",
       "      <td>0.28</td>\n",
       "      <td>2.20</td>\n",
       "      <td>29.87</td>\n",
       "    </tr>\n",
       "    <tr>\n",
       "      <th>348</th>\n",
       "      <td>C2</td>\n",
       "      <td>0.81</td>\n",
       "      <td>606.38</td>\n",
       "      <td>NaN</td>\n",
       "      <td>161.70</td>\n",
       "      <td>5.67</td>\n",
       "      <td>1.62</td>\n",
       "      <td>0.31</td>\n",
       "      <td>1.62</td>\n",
       "      <td>25.74</td>\n",
       "    </tr>\n",
       "    <tr>\n",
       "      <th>362</th>\n",
       "      <td>C3</td>\n",
       "      <td>0.74</td>\n",
       "      <td>686.00</td>\n",
       "      <td>NaN</td>\n",
       "      <td>218.30</td>\n",
       "      <td>3.15</td>\n",
       "      <td>3.96</td>\n",
       "      <td>0.31</td>\n",
       "      <td>2.20</td>\n",
       "      <td>12.16</td>\n",
       "    </tr>\n",
       "    <tr>\n",
       "      <th>373</th>\n",
       "      <td>C3</td>\n",
       "      <td>0.65</td>\n",
       "      <td>683.55</td>\n",
       "      <td>NaN</td>\n",
       "      <td>218.30</td>\n",
       "      <td>3.15</td>\n",
       "      <td>2.70</td>\n",
       "      <td>0.25</td>\n",
       "      <td>1.80</td>\n",
       "      <td>12.93</td>\n",
       "    </tr>\n",
       "    <tr>\n",
       "      <th>382</th>\n",
       "      <td>C1</td>\n",
       "      <td>0.68</td>\n",
       "      <td>800.42</td>\n",
       "      <td>NaN</td>\n",
       "      <td>178.60</td>\n",
       "      <td>3.47</td>\n",
       "      <td>4.84</td>\n",
       "      <td>0.28</td>\n",
       "      <td>2.20</td>\n",
       "      <td>14.60</td>\n",
       "    </tr>\n",
       "    <tr>\n",
       "      <th>395</th>\n",
       "      <td>C1</td>\n",
       "      <td>0.69</td>\n",
       "      <td>476.28</td>\n",
       "      <td>NaN</td>\n",
       "      <td>145.53</td>\n",
       "      <td>6.93</td>\n",
       "      <td>4.50</td>\n",
       "      <td>0.22</td>\n",
       "      <td>2.70</td>\n",
       "      <td>29.07</td>\n",
       "    </tr>\n",
       "    <tr>\n",
       "      <th>401</th>\n",
       "      <td>C1</td>\n",
       "      <td>0.87</td>\n",
       "      <td>515.97</td>\n",
       "      <td>NaN</td>\n",
       "      <td>145.53</td>\n",
       "      <td>6.93</td>\n",
       "      <td>3.30</td>\n",
       "      <td>0.25</td>\n",
       "      <td>2.43</td>\n",
       "      <td>38.35</td>\n",
       "    </tr>\n",
       "    <tr>\n",
       "      <th>417</th>\n",
       "      <td>C1</td>\n",
       "      <td>0.84</td>\n",
       "      <td>727.65</td>\n",
       "      <td>NaN</td>\n",
       "      <td>266.80</td>\n",
       "      <td>3.85</td>\n",
       "      <td>2.97</td>\n",
       "      <td>0.25</td>\n",
       "      <td>3.63</td>\n",
       "      <td>12.46</td>\n",
       "    </tr>\n",
       "    <tr>\n",
       "      <th>432</th>\n",
       "      <td>C1</td>\n",
       "      <td>1.19</td>\n",
       "      <td>622.55</td>\n",
       "      <td>NaN</td>\n",
       "      <td>109.15</td>\n",
       "      <td>5.67</td>\n",
       "      <td>1.98</td>\n",
       "      <td>0.22</td>\n",
       "      <td>4.40</td>\n",
       "      <td>28.70</td>\n",
       "    </tr>\n",
       "    <tr>\n",
       "      <th>447</th>\n",
       "      <td>C2</td>\n",
       "      <td>0.90</td>\n",
       "      <td>741.13</td>\n",
       "      <td>NaN</td>\n",
       "      <td>132.30</td>\n",
       "      <td>8.47</td>\n",
       "      <td>4.95</td>\n",
       "      <td>0.22</td>\n",
       "      <td>3.96</td>\n",
       "      <td>26.00</td>\n",
       "    </tr>\n",
       "    <tr>\n",
       "      <th>453</th>\n",
       "      <td>C1</td>\n",
       "      <td>0.76</td>\n",
       "      <td>595.35</td>\n",
       "      <td>NaN</td>\n",
       "      <td>99.23</td>\n",
       "      <td>8.47</td>\n",
       "      <td>2.97</td>\n",
       "      <td>0.25</td>\n",
       "      <td>3.24</td>\n",
       "      <td>36.45</td>\n",
       "    </tr>\n",
       "    <tr>\n",
       "      <th>473</th>\n",
       "      <td>C1</td>\n",
       "      <td>0.77</td>\n",
       "      <td>776.16</td>\n",
       "      <td>NaN</td>\n",
       "      <td>266.80</td>\n",
       "      <td>3.47</td>\n",
       "      <td>2.97</td>\n",
       "      <td>0.25</td>\n",
       "      <td>4.40</td>\n",
       "      <td>16.69</td>\n",
       "    </tr>\n",
       "    <tr>\n",
       "      <th>493</th>\n",
       "      <td>C2</td>\n",
       "      <td>0.99</td>\n",
       "      <td>606.38</td>\n",
       "      <td>NaN</td>\n",
       "      <td>161.70</td>\n",
       "      <td>7.00</td>\n",
       "      <td>2.97</td>\n",
       "      <td>0.24</td>\n",
       "      <td>4.95</td>\n",
       "      <td>25.17</td>\n",
       "    </tr>\n",
       "    <tr>\n",
       "      <th>495</th>\n",
       "      <td>C2</td>\n",
       "      <td>0.67</td>\n",
       "      <td>606.38</td>\n",
       "      <td>NaN</td>\n",
       "      <td>145.53</td>\n",
       "      <td>6.30</td>\n",
       "      <td>4.05</td>\n",
       "      <td>0.22</td>\n",
       "      <td>4.95</td>\n",
       "      <td>25.49</td>\n",
       "    </tr>\n",
       "    <tr>\n",
       "      <th>524</th>\n",
       "      <td>C1</td>\n",
       "      <td>0.75</td>\n",
       "      <td>727.65</td>\n",
       "      <td>NaN</td>\n",
       "      <td>218.30</td>\n",
       "      <td>3.47</td>\n",
       "      <td>1.98</td>\n",
       "      <td>0.24</td>\n",
       "      <td>4.50</td>\n",
       "      <td>13.68</td>\n",
       "    </tr>\n",
       "    <tr>\n",
       "      <th>560</th>\n",
       "      <td>C1</td>\n",
       "      <td>0.68</td>\n",
       "      <td>727.65</td>\n",
       "      <td>NaN</td>\n",
       "      <td>218.30</td>\n",
       "      <td>3.15</td>\n",
       "      <td>1.62</td>\n",
       "      <td>0.40</td>\n",
       "      <td>0.99</td>\n",
       "      <td>14.51</td>\n",
       "    </tr>\n",
       "    <tr>\n",
       "      <th>563</th>\n",
       "      <td>C2</td>\n",
       "      <td>0.56</td>\n",
       "      <td>889.35</td>\n",
       "      <td>NaN</td>\n",
       "      <td>218.30</td>\n",
       "      <td>3.47</td>\n",
       "      <td>4.95</td>\n",
       "      <td>0.32</td>\n",
       "      <td>0.99</td>\n",
       "      <td>14.42</td>\n",
       "    </tr>\n",
       "    <tr>\n",
       "      <th>584</th>\n",
       "      <td>C3</td>\n",
       "      <td>0.77</td>\n",
       "      <td>582.12</td>\n",
       "      <td>NaN</td>\n",
       "      <td>119.07</td>\n",
       "      <td>6.30</td>\n",
       "      <td>2.42</td>\n",
       "      <td>0.36</td>\n",
       "      <td>2.20</td>\n",
       "      <td>32.48</td>\n",
       "    </tr>\n",
       "    <tr>\n",
       "      <th>605</th>\n",
       "      <td>C2</td>\n",
       "      <td>0.78</td>\n",
       "      <td>639.45</td>\n",
       "      <td>NaN</td>\n",
       "      <td>266.80</td>\n",
       "      <td>3.85</td>\n",
       "      <td>2.43</td>\n",
       "      <td>0.36</td>\n",
       "      <td>1.98</td>\n",
       "      <td>14.66</td>\n",
       "    </tr>\n",
       "    <tr>\n",
       "      <th>608</th>\n",
       "      <td>C1</td>\n",
       "      <td>0.68</td>\n",
       "      <td>808.50</td>\n",
       "      <td>NaN</td>\n",
       "      <td>266.80</td>\n",
       "      <td>3.85</td>\n",
       "      <td>2.20</td>\n",
       "      <td>0.36</td>\n",
       "      <td>1.62</td>\n",
       "      <td>14.75</td>\n",
       "    </tr>\n",
       "    <tr>\n",
       "      <th>629</th>\n",
       "      <td>C3</td>\n",
       "      <td>0.73</td>\n",
       "      <td>557.86</td>\n",
       "      <td>NaN</td>\n",
       "      <td>121.28</td>\n",
       "      <td>6.93</td>\n",
       "      <td>3.63</td>\n",
       "      <td>0.40</td>\n",
       "      <td>3.30</td>\n",
       "      <td>34.95</td>\n",
       "    </tr>\n",
       "    <tr>\n",
       "      <th>649</th>\n",
       "      <td>C1</td>\n",
       "      <td>0.89</td>\n",
       "      <td>679.14</td>\n",
       "      <td>NaN</td>\n",
       "      <td>218.30</td>\n",
       "      <td>3.85</td>\n",
       "      <td>2.43</td>\n",
       "      <td>0.44</td>\n",
       "      <td>3.63</td>\n",
       "      <td>14.22</td>\n",
       "    </tr>\n",
       "    <tr>\n",
       "      <th>664</th>\n",
       "      <td>C1</td>\n",
       "      <td>0.64</td>\n",
       "      <td>784.00</td>\n",
       "      <td>NaN</td>\n",
       "      <td>178.60</td>\n",
       "      <td>4.24</td>\n",
       "      <td>2.42</td>\n",
       "      <td>0.48</td>\n",
       "      <td>2.70</td>\n",
       "      <td>18.48</td>\n",
       "    </tr>\n",
       "    <tr>\n",
       "      <th>694</th>\n",
       "      <td>C3</td>\n",
       "      <td>0.68</td>\n",
       "      <td>654.88</td>\n",
       "      <td>NaN</td>\n",
       "      <td>134.75</td>\n",
       "      <td>6.93</td>\n",
       "      <td>4.40</td>\n",
       "      <td>0.32</td>\n",
       "      <td>4.40</td>\n",
       "      <td>40.60</td>\n",
       "    </tr>\n",
       "    <tr>\n",
       "      <th>697</th>\n",
       "      <td>C2</td>\n",
       "      <td>0.89</td>\n",
       "      <td>830.06</td>\n",
       "      <td>NaN</td>\n",
       "      <td>218.30</td>\n",
       "      <td>3.47</td>\n",
       "      <td>3.63</td>\n",
       "      <td>0.32</td>\n",
       "      <td>3.96</td>\n",
       "      <td>14.48</td>\n",
       "    </tr>\n",
       "    <tr>\n",
       "      <th>731</th>\n",
       "      <td>C2</td>\n",
       "      <td>0.86</td>\n",
       "      <td>529.20</td>\n",
       "      <td>NaN</td>\n",
       "      <td>145.53</td>\n",
       "      <td>6.93</td>\n",
       "      <td>4.95</td>\n",
       "      <td>0.40</td>\n",
       "      <td>4.95</td>\n",
       "      <td>32.06</td>\n",
       "    </tr>\n",
       "    <tr>\n",
       "      <th>740</th>\n",
       "      <td>C1</td>\n",
       "      <td>0.68</td>\n",
       "      <td>535.82</td>\n",
       "      <td>NaN</td>\n",
       "      <td>121.28</td>\n",
       "      <td>5.67</td>\n",
       "      <td>2.42</td>\n",
       "      <td>0.36</td>\n",
       "      <td>6.05</td>\n",
       "      <td>38.82</td>\n",
       "    </tr>\n",
       "    <tr>\n",
       "      <th>764</th>\n",
       "      <td>C2</td>\n",
       "      <td>0.50</td>\n",
       "      <td>727.65</td>\n",
       "      <td>NaN</td>\n",
       "      <td>266.80</td>\n",
       "      <td>3.47</td>\n",
       "      <td>1.98</td>\n",
       "      <td>0.44</td>\n",
       "      <td>5.00</td>\n",
       "      <td>16.54</td>\n",
       "    </tr>\n",
       "  </tbody>\n",
       "</table>\n",
       "</div>"
      ],
      "text/plain": [
       "     X0    X1      X2  X3      X4    X5    X6    X7    X8      Y\n",
       "0    C3  1.19  622.55 NaN   89.31  7.00  1.98  0.00  0.00  15.55\n",
       "34   C1  0.68  661.50 NaN  178.60  3.47  4.40  0.00  0.00   6.77\n",
       "88   C2  0.64  776.16 NaN  242.55  3.85  1.80  0.10  1.10  15.41\n",
       "121  C3  0.73  617.40 NaN  218.30  3.47  2.43  0.09  2.00  10.46\n",
       "168  C1  0.67  754.60 NaN  242.55  3.47  1.98  0.11  2.43  10.39\n",
       "224  C3  0.68  661.50 NaN  198.45  2.84  1.80  0.12  4.40  11.18\n",
       "278  C2  0.53  919.00 NaN  218.30  3.85  3.96  0.10  5.50  11.22\n",
       "282  C2  0.70  705.60 NaN  242.55  3.47  3.96  0.11  4.95  15.12\n",
       "296  C3  0.85  582.12 NaN  161.70  6.30  1.98  0.28  1.10  29.54\n",
       "313  C1  0.74  679.14 NaN  242.55  3.15  3.30  0.24  0.90  12.50\n",
       "328  C3  0.77  862.40 NaN  218.30  4.24  2.42  0.31  0.99  17.50\n",
       "333  C1  0.68  727.65 NaN  242.55  3.47  2.70  0.20  0.99  15.12\n",
       "345  C2  0.85  582.12 NaN  177.87  6.30  2.97  0.28  2.20  29.87\n",
       "348  C2  0.81  606.38 NaN  161.70  5.67  1.62  0.31  1.62  25.74\n",
       "362  C3  0.74  686.00 NaN  218.30  3.15  3.96  0.31  2.20  12.16\n",
       "373  C3  0.65  683.55 NaN  218.30  3.15  2.70  0.25  1.80  12.93\n",
       "382  C1  0.68  800.42 NaN  178.60  3.47  4.84  0.28  2.20  14.60\n",
       "395  C1  0.69  476.28 NaN  145.53  6.93  4.50  0.22  2.70  29.07\n",
       "401  C1  0.87  515.97 NaN  145.53  6.93  3.30  0.25  2.43  38.35\n",
       "417  C1  0.84  727.65 NaN  266.80  3.85  2.97  0.25  3.63  12.46\n",
       "432  C1  1.19  622.55 NaN  109.15  5.67  1.98  0.22  4.40  28.70\n",
       "447  C2  0.90  741.13 NaN  132.30  8.47  4.95  0.22  3.96  26.00\n",
       "453  C1  0.76  595.35 NaN   99.23  8.47  2.97  0.25  3.24  36.45\n",
       "473  C1  0.77  776.16 NaN  266.80  3.47  2.97  0.25  4.40  16.69\n",
       "493  C2  0.99  606.38 NaN  161.70  7.00  2.97  0.24  4.95  25.17\n",
       "495  C2  0.67  606.38 NaN  145.53  6.30  4.05  0.22  4.95  25.49\n",
       "524  C1  0.75  727.65 NaN  218.30  3.47  1.98  0.24  4.50  13.68\n",
       "560  C1  0.68  727.65 NaN  218.30  3.15  1.62  0.40  0.99  14.51\n",
       "563  C2  0.56  889.35 NaN  218.30  3.47  4.95  0.32  0.99  14.42\n",
       "584  C3  0.77  582.12 NaN  119.07  6.30  2.42  0.36  2.20  32.48\n",
       "605  C2  0.78  639.45 NaN  266.80  3.85  2.43  0.36  1.98  14.66\n",
       "608  C1  0.68  808.50 NaN  266.80  3.85  2.20  0.36  1.62  14.75\n",
       "629  C3  0.73  557.86 NaN  121.28  6.93  3.63  0.40  3.30  34.95\n",
       "649  C1  0.89  679.14 NaN  218.30  3.85  2.43  0.44  3.63  14.22\n",
       "664  C1  0.64  784.00 NaN  178.60  4.24  2.42  0.48  2.70  18.48\n",
       "694  C3  0.68  654.88 NaN  134.75  6.93  4.40  0.32  4.40  40.60\n",
       "697  C2  0.89  830.06 NaN  218.30  3.47  3.63  0.32  3.96  14.48\n",
       "731  C2  0.86  529.20 NaN  145.53  6.93  4.95  0.40  4.95  32.06\n",
       "740  C1  0.68  535.82 NaN  121.28  5.67  2.42  0.36  6.05  38.82\n",
       "764  C2  0.50  727.65 NaN  266.80  3.47  1.98  0.44  5.00  16.54"
      ]
     },
     "execution_count": 6,
     "metadata": {},
     "output_type": "execute_result"
    }
   ],
   "source": [
    "# Shows all records with Null values. \n",
    "nan_in_col  = data[data[\"X3\"].isna()]\n",
    "nan_in_col \n"
   ]
  },
  {
   "cell_type": "code",
   "execution_count": null,
   "metadata": {},
   "outputs": [],
   "source": [
    "\n",
    "# compute median and impute the missing values.\n",
    "# constant value and hence have a varince to impact the prediction of the model.\n",
    "\n",
    "median = data[\"X3\"].median()\n",
    "data[\"X3\"].fillna(median, inplace=True)"
   ]
  },
  {
   "cell_type": "code",
   "execution_count": null,
   "metadata": {},
   "outputs": [
    {
     "data": {
      "text/html": [
       "<div>\n",
       "<style scoped>\n",
       "    .dataframe tbody tr th:only-of-type {\n",
       "        vertical-align: middle;\n",
       "    }\n",
       "\n",
       "    .dataframe tbody tr th {\n",
       "        vertical-align: top;\n",
       "    }\n",
       "\n",
       "    .dataframe thead th {\n",
       "        text-align: right;\n",
       "    }\n",
       "</style>\n",
       "<table border=\"1\" class=\"dataframe\">\n",
       "  <thead>\n",
       "    <tr style=\"text-align: right;\">\n",
       "      <th></th>\n",
       "      <th>X0</th>\n",
       "      <th>X1</th>\n",
       "      <th>X2</th>\n",
       "      <th>X3</th>\n",
       "      <th>X4</th>\n",
       "      <th>X5</th>\n",
       "      <th>X6</th>\n",
       "      <th>X7</th>\n",
       "      <th>X8</th>\n",
       "    </tr>\n",
       "  </thead>\n",
       "  <tbody>\n",
       "  </tbody>\n",
       "</table>\n",
       "</div>"
      ],
      "text/plain": [
       "Empty DataFrame\n",
       "Columns: [X0, X1, X2, X3, X4, X5, X6, X7, X8]\n",
       "Index: []"
      ]
     },
     "execution_count": 11,
     "metadata": {},
     "output_type": "execute_result"
    }
   ],
   "source": [
    "# Checks to see if null values have been replaced \n",
    "nan_in_col2  = data[data[\"X3\"].isna()]\n",
    "nan_in_col2"
   ]
  },
  {
   "cell_type": "code",
   "execution_count": null,
   "metadata": {},
   "outputs": [],
   "source": [
    "# In future data where there are missing values the inputer allows us to fill missing values on some of these variables \n",
    "from sklearn.impute import SimpleImputer\n",
    "imputer = SimpleImputer(strategy=\"median\")"
   ]
  },
  {
   "cell_type": "code",
   "execution_count": null,
   "metadata": {},
   "outputs": [],
   "source": [
    "# Median can only be calculated on numerical attributes so we drop the \"X0\" column \n",
    "data_num = data.drop(\"X0\", axis=1)"
   ]
  },
  {
   "cell_type": "code",
   "execution_count": null,
   "metadata": {},
   "outputs": [
    {
     "data": {
      "text/html": [
       "<style>#sk-container-id-1 {color: black;background-color: white;}#sk-container-id-1 pre{padding: 0;}#sk-container-id-1 div.sk-toggleable {background-color: white;}#sk-container-id-1 label.sk-toggleable__label {cursor: pointer;display: block;width: 100%;margin-bottom: 0;padding: 0.3em;box-sizing: border-box;text-align: center;}#sk-container-id-1 label.sk-toggleable__label-arrow:before {content: \"▸\";float: left;margin-right: 0.25em;color: #696969;}#sk-container-id-1 label.sk-toggleable__label-arrow:hover:before {color: black;}#sk-container-id-1 div.sk-estimator:hover label.sk-toggleable__label-arrow:before {color: black;}#sk-container-id-1 div.sk-toggleable__content {max-height: 0;max-width: 0;overflow: hidden;text-align: left;background-color: #f0f8ff;}#sk-container-id-1 div.sk-toggleable__content pre {margin: 0.2em;color: black;border-radius: 0.25em;background-color: #f0f8ff;}#sk-container-id-1 input.sk-toggleable__control:checked~div.sk-toggleable__content {max-height: 200px;max-width: 100%;overflow: auto;}#sk-container-id-1 input.sk-toggleable__control:checked~label.sk-toggleable__label-arrow:before {content: \"▾\";}#sk-container-id-1 div.sk-estimator input.sk-toggleable__control:checked~label.sk-toggleable__label {background-color: #d4ebff;}#sk-container-id-1 div.sk-label input.sk-toggleable__control:checked~label.sk-toggleable__label {background-color: #d4ebff;}#sk-container-id-1 input.sk-hidden--visually {border: 0;clip: rect(1px 1px 1px 1px);clip: rect(1px, 1px, 1px, 1px);height: 1px;margin: -1px;overflow: hidden;padding: 0;position: absolute;width: 1px;}#sk-container-id-1 div.sk-estimator {font-family: monospace;background-color: #f0f8ff;border: 1px dotted black;border-radius: 0.25em;box-sizing: border-box;margin-bottom: 0.5em;}#sk-container-id-1 div.sk-estimator:hover {background-color: #d4ebff;}#sk-container-id-1 div.sk-parallel-item::after {content: \"\";width: 100%;border-bottom: 1px solid gray;flex-grow: 1;}#sk-container-id-1 div.sk-label:hover label.sk-toggleable__label {background-color: #d4ebff;}#sk-container-id-1 div.sk-serial::before {content: \"\";position: absolute;border-left: 1px solid gray;box-sizing: border-box;top: 0;bottom: 0;left: 50%;z-index: 0;}#sk-container-id-1 div.sk-serial {display: flex;flex-direction: column;align-items: center;background-color: white;padding-right: 0.2em;padding-left: 0.2em;position: relative;}#sk-container-id-1 div.sk-item {position: relative;z-index: 1;}#sk-container-id-1 div.sk-parallel {display: flex;align-items: stretch;justify-content: center;background-color: white;position: relative;}#sk-container-id-1 div.sk-item::before, #sk-container-id-1 div.sk-parallel-item::before {content: \"\";position: absolute;border-left: 1px solid gray;box-sizing: border-box;top: 0;bottom: 0;left: 50%;z-index: -1;}#sk-container-id-1 div.sk-parallel-item {display: flex;flex-direction: column;z-index: 1;position: relative;background-color: white;}#sk-container-id-1 div.sk-parallel-item:first-child::after {align-self: flex-end;width: 50%;}#sk-container-id-1 div.sk-parallel-item:last-child::after {align-self: flex-start;width: 50%;}#sk-container-id-1 div.sk-parallel-item:only-child::after {width: 0;}#sk-container-id-1 div.sk-dashed-wrapped {border: 1px dashed gray;margin: 0 0.4em 0.5em 0.4em;box-sizing: border-box;padding-bottom: 0.4em;background-color: white;}#sk-container-id-1 div.sk-label label {font-family: monospace;font-weight: bold;display: inline-block;line-height: 1.2em;}#sk-container-id-1 div.sk-label-container {text-align: center;}#sk-container-id-1 div.sk-container {/* jupyter's `normalize.less` sets `[hidden] { display: none; }` but bootstrap.min.css set `[hidden] { display: none !important; }` so we also need the `!important` here to be able to override the default hidden behavior on the sphinx rendered scikit-learn.org. See: https://github.com/scikit-learn/scikit-learn/issues/21755 */display: inline-block !important;position: relative;}#sk-container-id-1 div.sk-text-repr-fallback {display: none;}</style><div id=\"sk-container-id-1\" class=\"sk-top-container\"><div class=\"sk-text-repr-fallback\"><pre>SimpleImputer(strategy=&#x27;median&#x27;)</pre><b>In a Jupyter environment, please rerun this cell to show the HTML representation or trust the notebook. <br />On GitHub, the HTML representation is unable to render, please try loading this page with nbviewer.org.</b></div><div class=\"sk-container\" hidden><div class=\"sk-item\"><div class=\"sk-estimator sk-toggleable\"><input class=\"sk-toggleable__control sk-hidden--visually\" id=\"sk-estimator-id-1\" type=\"checkbox\" checked><label for=\"sk-estimator-id-1\" class=\"sk-toggleable__label sk-toggleable__label-arrow\">SimpleImputer</label><div class=\"sk-toggleable__content\"><pre>SimpleImputer(strategy=&#x27;median&#x27;)</pre></div></div></div></div></div>"
      ],
      "text/plain": [
       "SimpleImputer(strategy='median')"
      ]
     },
     "execution_count": 14,
     "metadata": {},
     "output_type": "execute_result"
    }
   ],
   "source": [
    "imputer.fit(data_num)"
   ]
  },
  {
   "cell_type": "code",
   "execution_count": null,
   "metadata": {},
   "outputs": [
    {
     "data": {
      "text/plain": [
       "array([7.5000e-01, 6.6150e+02, 3.1532e+02, 1.7860e+02, 4.2400e+00,\n",
       "       3.6000e+00, 2.5000e-01, 2.9700e+00])"
      ]
     },
     "execution_count": 15,
     "metadata": {},
     "output_type": "execute_result"
    }
   ],
   "source": [
    "# Shows the medians computed by the imputer.\n",
    "imputer.statistics_"
   ]
  },
  {
   "cell_type": "code",
   "execution_count": null,
   "metadata": {},
   "outputs": [
    {
     "data": {
      "text/plain": [
       "array([7.5000e-01, 6.6150e+02, 3.1532e+02, 1.7860e+02, 4.2400e+00,\n",
       "       3.6000e+00, 2.5000e-01, 2.9700e+00])"
      ]
     },
     "execution_count": 17,
     "metadata": {},
     "output_type": "execute_result"
    }
   ],
   "source": [
    "#Comparing the median values to see if they are the same.\n",
    "data_num.median().values"
   ]
  },
  {
   "cell_type": "code",
   "execution_count": null,
   "metadata": {},
   "outputs": [],
   "source": [
    "X = imputer.transform(data_num)"
   ]
  },
  {
   "cell_type": "code",
   "execution_count": null,
   "metadata": {},
   "outputs": [],
   "source": [
    "data_tr = pd.DataFrame(X, columns=data_num.columns, \n",
    "                          index=data.index) # Creates a DataFrame with the transformed data"
   ]
  },
  {
   "cell_type": "code",
   "execution_count": null,
   "metadata": {},
   "outputs": [
    {
     "data": {
      "text/html": [
       "<div>\n",
       "<style scoped>\n",
       "    .dataframe tbody tr th:only-of-type {\n",
       "        vertical-align: middle;\n",
       "    }\n",
       "\n",
       "    .dataframe tbody tr th {\n",
       "        vertical-align: top;\n",
       "    }\n",
       "\n",
       "    .dataframe thead th {\n",
       "        text-align: right;\n",
       "    }\n",
       "</style>\n",
       "<table border=\"1\" class=\"dataframe\">\n",
       "  <thead>\n",
       "    <tr style=\"text-align: right;\">\n",
       "      <th></th>\n",
       "      <th>X1</th>\n",
       "      <th>X2</th>\n",
       "      <th>X3</th>\n",
       "      <th>X4</th>\n",
       "      <th>X5</th>\n",
       "      <th>X6</th>\n",
       "      <th>X7</th>\n",
       "      <th>X8</th>\n",
       "    </tr>\n",
       "  </thead>\n",
       "  <tbody>\n",
       "    <tr>\n",
       "      <th>334</th>\n",
       "      <td>0.61</td>\n",
       "      <td>800.42</td>\n",
       "      <td>363.82</td>\n",
       "      <td>242.55</td>\n",
       "      <td>2.84</td>\n",
       "      <td>3.96</td>\n",
       "      <td>0.24</td>\n",
       "      <td>0.99</td>\n",
       "    </tr>\n",
       "    <tr>\n",
       "      <th>139</th>\n",
       "      <td>0.63</td>\n",
       "      <td>705.60</td>\n",
       "      <td>339.57</td>\n",
       "      <td>198.45</td>\n",
       "      <td>3.85</td>\n",
       "      <td>6.05</td>\n",
       "      <td>0.10</td>\n",
       "      <td>1.98</td>\n",
       "    </tr>\n",
       "    <tr>\n",
       "      <th>485</th>\n",
       "      <td>0.99</td>\n",
       "      <td>557.86</td>\n",
       "      <td>315.32</td>\n",
       "      <td>110.25</td>\n",
       "      <td>6.30</td>\n",
       "      <td>3.30</td>\n",
       "      <td>0.28</td>\n",
       "      <td>5.00</td>\n",
       "    </tr>\n",
       "    <tr>\n",
       "      <th>547</th>\n",
       "      <td>0.71</td>\n",
       "      <td>630.63</td>\n",
       "      <td>339.57</td>\n",
       "      <td>119.07</td>\n",
       "      <td>7.70</td>\n",
       "      <td>6.05</td>\n",
       "      <td>0.36</td>\n",
       "      <td>0.99</td>\n",
       "    </tr>\n",
       "    <tr>\n",
       "      <th>18</th>\n",
       "      <td>0.71</td>\n",
       "      <td>630.63</td>\n",
       "      <td>377.30</td>\n",
       "      <td>119.07</td>\n",
       "      <td>5.67</td>\n",
       "      <td>3.60</td>\n",
       "      <td>0.00</td>\n",
       "      <td>0.00</td>\n",
       "    </tr>\n",
       "    <tr>\n",
       "      <th>...</th>\n",
       "      <td>...</td>\n",
       "      <td>...</td>\n",
       "      <td>...</td>\n",
       "      <td>...</td>\n",
       "      <td>...</td>\n",
       "      <td>...</td>\n",
       "      <td>...</td>\n",
       "      <td>...</td>\n",
       "    </tr>\n",
       "    <tr>\n",
       "      <th>71</th>\n",
       "      <td>0.75</td>\n",
       "      <td>654.89</td>\n",
       "      <td>416.50</td>\n",
       "      <td>121.28</td>\n",
       "      <td>8.47</td>\n",
       "      <td>4.05</td>\n",
       "      <td>0.09</td>\n",
       "      <td>0.90</td>\n",
       "    </tr>\n",
       "    <tr>\n",
       "      <th>106</th>\n",
       "      <td>1.04</td>\n",
       "      <td>582.12</td>\n",
       "      <td>291.06</td>\n",
       "      <td>161.70</td>\n",
       "      <td>7.70</td>\n",
       "      <td>3.96</td>\n",
       "      <td>0.09</td>\n",
       "      <td>2.42</td>\n",
       "    </tr>\n",
       "    <tr>\n",
       "      <th>270</th>\n",
       "      <td>0.86</td>\n",
       "      <td>575.51</td>\n",
       "      <td>326.10</td>\n",
       "      <td>242.55</td>\n",
       "      <td>3.47</td>\n",
       "      <td>4.84</td>\n",
       "      <td>0.12</td>\n",
       "      <td>6.05</td>\n",
       "    </tr>\n",
       "    <tr>\n",
       "      <th>435</th>\n",
       "      <td>0.97</td>\n",
       "      <td>509.36</td>\n",
       "      <td>355.74</td>\n",
       "      <td>109.15</td>\n",
       "      <td>6.93</td>\n",
       "      <td>6.05</td>\n",
       "      <td>0.31</td>\n",
       "      <td>3.24</td>\n",
       "    </tr>\n",
       "    <tr>\n",
       "      <th>102</th>\n",
       "      <td>0.99</td>\n",
       "      <td>557.86</td>\n",
       "      <td>257.98</td>\n",
       "      <td>110.25</td>\n",
       "      <td>6.30</td>\n",
       "      <td>3.96</td>\n",
       "      <td>0.08</td>\n",
       "      <td>2.20</td>\n",
       "    </tr>\n",
       "  </tbody>\n",
       "</table>\n",
       "<p>537 rows × 8 columns</p>\n",
       "</div>"
      ],
      "text/plain": [
       "       X1      X2      X3      X4    X5    X6    X7    X8\n",
       "334  0.61  800.42  363.82  242.55  2.84  3.96  0.24  0.99\n",
       "139  0.63  705.60  339.57  198.45  3.85  6.05  0.10  1.98\n",
       "485  0.99  557.86  315.32  110.25  6.30  3.30  0.28  5.00\n",
       "547  0.71  630.63  339.57  119.07  7.70  6.05  0.36  0.99\n",
       "18   0.71  630.63  377.30  119.07  5.67  3.60  0.00  0.00\n",
       "..    ...     ...     ...     ...   ...   ...   ...   ...\n",
       "71   0.75  654.89  416.50  121.28  8.47  4.05  0.09  0.90\n",
       "106  1.04  582.12  291.06  161.70  7.70  3.96  0.09  2.42\n",
       "270  0.86  575.51  326.10  242.55  3.47  4.84  0.12  6.05\n",
       "435  0.97  509.36  355.74  109.15  6.93  6.05  0.31  3.24\n",
       "102  0.99  557.86  257.98  110.25  6.30  3.96  0.08  2.20\n",
       "\n",
       "[537 rows x 8 columns]"
      ]
     },
     "execution_count": 19,
     "metadata": {},
     "output_type": "execute_result"
    }
   ],
   "source": [
    "data_tr.loc[data.index.values] # Shows the transformed data"
   ]
  },
  {
   "cell_type": "code",
   "execution_count": null,
   "metadata": {},
   "outputs": [],
   "source": [
    "data_tr = pd.DataFrame(X, columns=data_num.columns,\n",
    "                          index=data_num.index)"
   ]
  },
  {
   "cell_type": "code",
   "execution_count": null,
   "metadata": {},
   "outputs": [
    {
     "data": {
      "text/html": [
       "<div>\n",
       "<style scoped>\n",
       "    .dataframe tbody tr th:only-of-type {\n",
       "        vertical-align: middle;\n",
       "    }\n",
       "\n",
       "    .dataframe tbody tr th {\n",
       "        vertical-align: top;\n",
       "    }\n",
       "\n",
       "    .dataframe thead th {\n",
       "        text-align: right;\n",
       "    }\n",
       "</style>\n",
       "<table border=\"1\" class=\"dataframe\">\n",
       "  <thead>\n",
       "    <tr style=\"text-align: right;\">\n",
       "      <th></th>\n",
       "      <th>X0</th>\n",
       "    </tr>\n",
       "  </thead>\n",
       "  <tbody>\n",
       "    <tr>\n",
       "      <th>334</th>\n",
       "      <td>C3</td>\n",
       "    </tr>\n",
       "    <tr>\n",
       "      <th>139</th>\n",
       "      <td>C3</td>\n",
       "    </tr>\n",
       "    <tr>\n",
       "      <th>485</th>\n",
       "      <td>C2</td>\n",
       "    </tr>\n",
       "    <tr>\n",
       "      <th>547</th>\n",
       "      <td>C1</td>\n",
       "    </tr>\n",
       "    <tr>\n",
       "      <th>18</th>\n",
       "      <td>C2</td>\n",
       "    </tr>\n",
       "    <tr>\n",
       "      <th>593</th>\n",
       "      <td>C1</td>\n",
       "    </tr>\n",
       "    <tr>\n",
       "      <th>140</th>\n",
       "      <td>C1</td>\n",
       "    </tr>\n",
       "    <tr>\n",
       "      <th>326</th>\n",
       "      <td>C2</td>\n",
       "    </tr>\n",
       "    <tr>\n",
       "      <th>266</th>\n",
       "      <td>C2</td>\n",
       "    </tr>\n",
       "    <tr>\n",
       "      <th>626</th>\n",
       "      <td>C1</td>\n",
       "    </tr>\n",
       "  </tbody>\n",
       "</table>\n",
       "</div>"
      ],
      "text/plain": [
       "     X0\n",
       "334  C3\n",
       "139  C3\n",
       "485  C2\n",
       "547  C1\n",
       "18   C2\n",
       "593  C1\n",
       "140  C1\n",
       "326  C2\n",
       "266  C2\n",
       "626  C1"
      ]
     },
     "execution_count": 21,
     "metadata": {},
     "output_type": "execute_result"
    }
   ],
   "source": [
    "# Makes a duplicate of the \"X0\" column that is categoric \n",
    "data_cat = data[[\"X0\"]]\n",
    "data_cat.head(10)"
   ]
  },
  {
   "cell_type": "code",
   "execution_count": null,
   "metadata": {},
   "outputs": [
    {
     "data": {
      "text/html": [
       "<div>\n",
       "<style scoped>\n",
       "    .dataframe tbody tr th:only-of-type {\n",
       "        vertical-align: middle;\n",
       "    }\n",
       "\n",
       "    .dataframe tbody tr th {\n",
       "        vertical-align: top;\n",
       "    }\n",
       "\n",
       "    .dataframe thead th {\n",
       "        text-align: right;\n",
       "    }\n",
       "</style>\n",
       "<table border=\"1\" class=\"dataframe\">\n",
       "  <thead>\n",
       "    <tr style=\"text-align: right;\">\n",
       "      <th></th>\n",
       "      <th>X1</th>\n",
       "      <th>X2</th>\n",
       "      <th>X3</th>\n",
       "      <th>X4</th>\n",
       "      <th>X5</th>\n",
       "      <th>X6</th>\n",
       "      <th>X7</th>\n",
       "      <th>X8</th>\n",
       "    </tr>\n",
       "  </thead>\n",
       "  <tbody>\n",
       "    <tr>\n",
       "      <th>334</th>\n",
       "      <td>0.61</td>\n",
       "      <td>800.42</td>\n",
       "      <td>363.82</td>\n",
       "      <td>242.55</td>\n",
       "      <td>2.84</td>\n",
       "      <td>3.96</td>\n",
       "      <td>0.24</td>\n",
       "      <td>0.99</td>\n",
       "    </tr>\n",
       "    <tr>\n",
       "      <th>139</th>\n",
       "      <td>0.63</td>\n",
       "      <td>705.60</td>\n",
       "      <td>339.57</td>\n",
       "      <td>198.45</td>\n",
       "      <td>3.85</td>\n",
       "      <td>6.05</td>\n",
       "      <td>0.10</td>\n",
       "      <td>1.98</td>\n",
       "    </tr>\n",
       "    <tr>\n",
       "      <th>485</th>\n",
       "      <td>0.99</td>\n",
       "      <td>557.86</td>\n",
       "      <td>315.32</td>\n",
       "      <td>110.25</td>\n",
       "      <td>6.30</td>\n",
       "      <td>3.30</td>\n",
       "      <td>0.28</td>\n",
       "      <td>5.00</td>\n",
       "    </tr>\n",
       "    <tr>\n",
       "      <th>547</th>\n",
       "      <td>0.71</td>\n",
       "      <td>630.63</td>\n",
       "      <td>339.57</td>\n",
       "      <td>119.07</td>\n",
       "      <td>7.70</td>\n",
       "      <td>6.05</td>\n",
       "      <td>0.36</td>\n",
       "      <td>0.99</td>\n",
       "    </tr>\n",
       "    <tr>\n",
       "      <th>18</th>\n",
       "      <td>0.71</td>\n",
       "      <td>630.63</td>\n",
       "      <td>377.30</td>\n",
       "      <td>119.07</td>\n",
       "      <td>5.67</td>\n",
       "      <td>3.60</td>\n",
       "      <td>0.00</td>\n",
       "      <td>0.00</td>\n",
       "    </tr>\n",
       "  </tbody>\n",
       "</table>\n",
       "</div>"
      ],
      "text/plain": [
       "       X1      X2      X3      X4    X5    X6    X7    X8\n",
       "334  0.61  800.42  363.82  242.55  2.84  3.96  0.24  0.99\n",
       "139  0.63  705.60  339.57  198.45  3.85  6.05  0.10  1.98\n",
       "485  0.99  557.86  315.32  110.25  6.30  3.30  0.28  5.00\n",
       "547  0.71  630.63  339.57  119.07  7.70  6.05  0.36  0.99\n",
       "18   0.71  630.63  377.30  119.07  5.67  3.60  0.00  0.00"
      ]
     },
     "execution_count": 22,
     "metadata": {},
     "output_type": "execute_result"
    }
   ],
   "source": [
    "data_tr.head() # numerical data"
   ]
  },
  {
   "cell_type": "code",
   "execution_count": null,
   "metadata": {},
   "outputs": [
    {
     "data": {
      "text/plain": [
       "<537x3 sparse matrix of type '<class 'numpy.float64'>'\n",
       "\twith 537 stored elements in Compressed Sparse Row format>"
      ]
     },
     "execution_count": 23,
     "metadata": {},
     "output_type": "execute_result"
    }
   ],
   "source": [
    "from sklearn.preprocessing import OneHotEncoder\n",
    "cat_encoder = OneHotEncoder() \n",
    "data_cat_1hot = cat_encoder.fit_transform(data_cat) # Returns a sparse matrix\n",
    "data_cat_1hot "
   ]
  },
  {
   "cell_type": "code",
   "execution_count": null,
   "metadata": {},
   "outputs": [
    {
     "data": {
      "text/plain": [
       "[array(['C1', 'C2', 'C3'], dtype=object)]"
      ]
     },
     "execution_count": 24,
     "metadata": {},
     "output_type": "execute_result"
    }
   ],
   "source": [
    "#Shows the types of categories \n",
    "cat_encoder.categories_"
   ]
  },
  {
   "cell_type": "code",
   "execution_count": null,
   "metadata": {},
   "outputs": [
    {
     "data": {
      "text/plain": [
       "array([[0., 0., 1.],\n",
       "       [0., 0., 1.],\n",
       "       [0., 1., 0.],\n",
       "       ...,\n",
       "       [0., 1., 0.],\n",
       "       [0., 1., 0.],\n",
       "       [0., 0., 1.]])"
      ]
     },
     "execution_count": 25,
     "metadata": {},
     "output_type": "execute_result"
    }
   ],
   "source": [
    "data_cat_1hot.toarray()"
   ]
  },
  {
   "cell_type": "code",
   "execution_count": null,
   "metadata": {},
   "outputs": [],
   "source": [
    "# Pipeline to preprocess the numerical attributes\n",
    "from sklearn.pipeline import Pipeline\n",
    "from sklearn.preprocessing import StandardScaler\n",
    "num_pipeline = Pipeline([\n",
    "        ('imputer', SimpleImputer(strategy=\"median\")),\n",
    "        ('std_scaler', StandardScaler()),\n",
    "    ])\n",
    "data_num_tr = num_pipeline.fit_transform(data_num)"
   ]
  },
  {
   "cell_type": "code",
   "execution_count": null,
   "metadata": {},
   "outputs": [
    {
     "data": {
      "text/plain": [
       "array([[-1.03443078,  1.07099616,  0.74848195, ...,  0.35749091,\n",
       "         0.00490148, -1.16327892],\n",
       "       [-0.89814782,  0.29534228,  0.33497246, ...,  2.08630327,\n",
       "        -0.99102645, -0.54348139],\n",
       "       [ 1.55494538, -0.91321187, -0.07853703, ..., -0.18844984,\n",
       "         0.28945232,  1.34721409],\n",
       "       ...,\n",
       "       [ 0.66910617, -0.76882997,  0.10528286, ...,  1.0854119 ,\n",
       "        -0.84875103,  2.00457511],\n",
       "       [ 1.41866242, -1.30995531,  0.61070229, ...,  2.08630327,\n",
       "         0.50286545,  0.24535182],\n",
       "       [ 1.55494538, -0.91321187, -1.05629515, ...,  0.35749091,\n",
       "        -1.13330187, -0.40574861]])"
      ]
     },
     "execution_count": 27,
     "metadata": {},
     "output_type": "execute_result"
    }
   ],
   "source": [
    "data_num_tr"
   ]
  },
  {
   "cell_type": "code",
   "execution_count": null,
   "metadata": {},
   "outputs": [],
   "source": [
    "from sklearn.compose import ColumnTransformer\n",
    "num_attribs = list(data_num)\n",
    "cat_attribs = [\"X0\"]\n",
    "full_pipeline = ColumnTransformer([\n",
    "        (\"num\", num_pipeline, num_attribs),\n",
    "        (\"cat\", OneHotEncoder(), cat_attribs),\n",
    "    ])\n",
    "data_prepared = full_pipeline.fit_transform(data)"
   ]
  },
  {
   "cell_type": "code",
   "execution_count": null,
   "metadata": {},
   "outputs": [
    {
     "data": {
      "text/plain": [
       "array([[-1.03443078,  1.07099616,  0.74848195, ...,  0.        ,\n",
       "         0.        ,  1.        ],\n",
       "       [-0.89814782,  0.29534228,  0.33497246, ...,  0.        ,\n",
       "         0.        ,  1.        ],\n",
       "       [ 1.55494538, -0.91321187, -0.07853703, ...,  0.        ,\n",
       "         1.        ,  0.        ],\n",
       "       ...,\n",
       "       [ 0.66910617, -0.76882997,  0.10528286, ...,  0.        ,\n",
       "         1.        ,  0.        ],\n",
       "       [ 1.41866242, -1.30995531,  0.61070229, ...,  0.        ,\n",
       "         1.        ,  0.        ],\n",
       "       [ 1.55494538, -0.91321187, -1.05629515, ...,  0.        ,\n",
       "         0.        ,  1.        ]])"
      ]
     },
     "execution_count": 29,
     "metadata": {},
     "output_type": "execute_result"
    }
   ],
   "source": [
    "data_prepared"
   ]
  },
  {
   "attachments": {},
   "cell_type": "markdown",
   "metadata": {},
   "source": [
    "<h2><b><u>Ridge regression</u></b></h2>\n",
    "\n",
    "The Ridge regression algorithm is a linear model that is used to predict a continuous target variable. It is a regularised version of the linear regression algorithm. It is a good algorithm to use when there are a large number of input variables and you suspect that only a subset of the input variables are actually useful."
   ]
  },
  {
   "cell_type": "code",
   "execution_count": null,
   "metadata": {},
   "outputs": [
    {
     "data": {
      "text/html": [
       "<style>#sk-container-id-7 {color: black;background-color: white;}#sk-container-id-7 pre{padding: 0;}#sk-container-id-7 div.sk-toggleable {background-color: white;}#sk-container-id-7 label.sk-toggleable__label {cursor: pointer;display: block;width: 100%;margin-bottom: 0;padding: 0.3em;box-sizing: border-box;text-align: center;}#sk-container-id-7 label.sk-toggleable__label-arrow:before {content: \"▸\";float: left;margin-right: 0.25em;color: #696969;}#sk-container-id-7 label.sk-toggleable__label-arrow:hover:before {color: black;}#sk-container-id-7 div.sk-estimator:hover label.sk-toggleable__label-arrow:before {color: black;}#sk-container-id-7 div.sk-toggleable__content {max-height: 0;max-width: 0;overflow: hidden;text-align: left;background-color: #f0f8ff;}#sk-container-id-7 div.sk-toggleable__content pre {margin: 0.2em;color: black;border-radius: 0.25em;background-color: #f0f8ff;}#sk-container-id-7 input.sk-toggleable__control:checked~div.sk-toggleable__content {max-height: 200px;max-width: 100%;overflow: auto;}#sk-container-id-7 input.sk-toggleable__control:checked~label.sk-toggleable__label-arrow:before {content: \"▾\";}#sk-container-id-7 div.sk-estimator input.sk-toggleable__control:checked~label.sk-toggleable__label {background-color: #d4ebff;}#sk-container-id-7 div.sk-label input.sk-toggleable__control:checked~label.sk-toggleable__label {background-color: #d4ebff;}#sk-container-id-7 input.sk-hidden--visually {border: 0;clip: rect(1px 1px 1px 1px);clip: rect(1px, 1px, 1px, 1px);height: 1px;margin: -1px;overflow: hidden;padding: 0;position: absolute;width: 1px;}#sk-container-id-7 div.sk-estimator {font-family: monospace;background-color: #f0f8ff;border: 1px dotted black;border-radius: 0.25em;box-sizing: border-box;margin-bottom: 0.5em;}#sk-container-id-7 div.sk-estimator:hover {background-color: #d4ebff;}#sk-container-id-7 div.sk-parallel-item::after {content: \"\";width: 100%;border-bottom: 1px solid gray;flex-grow: 1;}#sk-container-id-7 div.sk-label:hover label.sk-toggleable__label {background-color: #d4ebff;}#sk-container-id-7 div.sk-serial::before {content: \"\";position: absolute;border-left: 1px solid gray;box-sizing: border-box;top: 0;bottom: 0;left: 50%;z-index: 0;}#sk-container-id-7 div.sk-serial {display: flex;flex-direction: column;align-items: center;background-color: white;padding-right: 0.2em;padding-left: 0.2em;position: relative;}#sk-container-id-7 div.sk-item {position: relative;z-index: 1;}#sk-container-id-7 div.sk-parallel {display: flex;align-items: stretch;justify-content: center;background-color: white;position: relative;}#sk-container-id-7 div.sk-item::before, #sk-container-id-7 div.sk-parallel-item::before {content: \"\";position: absolute;border-left: 1px solid gray;box-sizing: border-box;top: 0;bottom: 0;left: 50%;z-index: -1;}#sk-container-id-7 div.sk-parallel-item {display: flex;flex-direction: column;z-index: 1;position: relative;background-color: white;}#sk-container-id-7 div.sk-parallel-item:first-child::after {align-self: flex-end;width: 50%;}#sk-container-id-7 div.sk-parallel-item:last-child::after {align-self: flex-start;width: 50%;}#sk-container-id-7 div.sk-parallel-item:only-child::after {width: 0;}#sk-container-id-7 div.sk-dashed-wrapped {border: 1px dashed gray;margin: 0 0.4em 0.5em 0.4em;box-sizing: border-box;padding-bottom: 0.4em;background-color: white;}#sk-container-id-7 div.sk-label label {font-family: monospace;font-weight: bold;display: inline-block;line-height: 1.2em;}#sk-container-id-7 div.sk-label-container {text-align: center;}#sk-container-id-7 div.sk-container {/* jupyter's `normalize.less` sets `[hidden] { display: none; }` but bootstrap.min.css set `[hidden] { display: none !important; }` so we also need the `!important` here to be able to override the default hidden behavior on the sphinx rendered scikit-learn.org. See: https://github.com/scikit-learn/scikit-learn/issues/21755 */display: inline-block !important;position: relative;}#sk-container-id-7 div.sk-text-repr-fallback {display: none;}</style><div id=\"sk-container-id-7\" class=\"sk-top-container\"><div class=\"sk-text-repr-fallback\"><pre>Ridge(random_state=42)</pre><b>In a Jupyter environment, please rerun this cell to show the HTML representation or trust the notebook. <br />On GitHub, the HTML representation is unable to render, please try loading this page with nbviewer.org.</b></div><div class=\"sk-container\" hidden><div class=\"sk-item\"><div class=\"sk-estimator sk-toggleable\"><input class=\"sk-toggleable__control sk-hidden--visually\" id=\"sk-estimator-id-11\" type=\"checkbox\" checked><label for=\"sk-estimator-id-11\" class=\"sk-toggleable__label sk-toggleable__label-arrow\">Ridge</label><div class=\"sk-toggleable__content\"><pre>Ridge(random_state=42)</pre></div></div></div></div></div>"
      ],
      "text/plain": [
       "Ridge(random_state=42)"
      ]
     },
     "execution_count": 52,
     "metadata": {},
     "output_type": "execute_result"
    }
   ],
   "source": [
    "# Fitting a ridge regression to predict the heating load values\n",
    "from sklearn.linear_model import Ridge\n",
    "ridge_reg = Ridge(random_state=42)\n",
    "ridge_reg.fit(data_prepared, data_labels)"
   ]
  },
  {
   "cell_type": "code",
   "execution_count": null,
   "metadata": {},
   "outputs": [
    {
     "name": "stdout",
     "output_type": "stream",
     "text": [
      "Predictions: [12.44088179 14.65502958 30.12802667 34.92687323 23.55007985 29.21015686\n",
      " 11.72893264 15.70813932  8.0237792  35.84302848  8.34151319 27.7774464\n",
      " 29.73659565 35.97653244 11.84006891 15.82064787 30.74244169 19.46067039\n",
      " 33.33633179 15.7676296  12.85755962 30.80363365 34.44724428 21.32910916\n",
      "  9.40820792 26.77012467 18.58513164 21.78954732 19.37168682 13.31063822\n",
      " 14.7510244  16.12068912 12.78973048 12.01548392 32.41356135 27.34245658\n",
      " 30.79664324  7.62814784 30.06395252 33.55473379 32.50711398 25.42080638\n",
      " 12.45465335 11.9211613  10.24492721 12.40910031 12.80006273 18.31125527\n",
      " 19.14935951 14.00336303 11.13942034 27.96691593 11.78390997  9.88685811\n",
      " 29.67683965 35.18628996 16.4993156  18.03143307  9.23477795 19.77169881\n",
      " 11.88360737  9.28797801 36.67065873 30.21461792 26.33808972 20.99815796\n",
      " 24.50480795 23.67907056 18.2291001  27.58939461 27.35908897 14.00393398\n",
      "  7.9905365  31.6859562  34.99354883 30.51156104 36.3955965  15.87756986\n",
      " 25.49948107 27.8283884  25.60330497  4.95895034 20.52215221 15.56456445\n",
      " 17.72085209 18.09799476 35.31794634 32.57240398 33.9206687  11.59806384\n",
      " 20.38995141 16.05891558 13.41578034 10.97237573 15.49211707 24.57350566\n",
      " 10.86290384 21.92402079 10.89814163 18.0975808  13.71903988 27.9389151\n",
      " 40.71177671 16.09578709 12.35747258 13.62157306 11.45019259 11.04632219\n",
      " 21.75737463  9.07840106 26.97614213 28.63957441 11.10858855 26.94285577\n",
      " 19.97997689  9.37598128 37.53978325 30.87828545 12.35724935 14.49105534\n",
      " 30.95116282 13.07031849 35.67031027 18.44328901 32.19431334 12.80982416\n",
      " 14.88113683 36.66513053 30.52590875 14.94718791 34.09655989 15.45253805\n",
      " 19.9299507   8.91351737 19.36681518 29.07096803 38.44381063 15.75816313\n",
      " 10.13383304 25.51047798 12.55607226 28.76435229 34.71762798 27.92836952\n",
      " 17.23829587 33.42117239 27.54406925 21.98314113 31.53617544 23.2114151\n",
      " 29.40339614 30.58159014 33.43977934 37.49641565 17.26146711 11.49810928\n",
      " 29.79996702 31.84356789 28.97850211 34.60224672 30.60119392  9.68086418\n",
      " 20.75264345 15.73425834 15.11638182 33.59586355 27.33469003 29.75577307\n",
      " 18.02223882 20.93927166 12.7155973  32.99230345 18.42625124  8.43757474\n",
      " 28.15897412 15.75164715 29.99397172 28.44843311 13.31386472 19.15127082\n",
      " 10.79516404 35.33912063 14.05912175 30.08964895 17.19695511 22.23451733\n",
      " 31.7155215  13.53869098 25.28101296 29.40171975  7.62177219 28.93610223\n",
      " 11.62393017  8.10559783 12.46393967 28.79097786 29.23416033 30.49992413\n",
      " 11.68214952 12.29648096 12.35144444 29.69151837 25.95297777  8.75198055\n",
      " 32.81039789 33.31088282 16.8379709  14.77000949 29.58884586 12.14389093\n",
      "  7.42346449 36.96759413 30.64242586 22.1046059  31.41733593 10.88218141\n",
      " 15.82553516 24.52490603 17.82161932 14.22712116 29.49182139 16.33377761\n",
      " 20.06510091 33.19016582 11.9084929  21.92610935 37.30716177 15.80031669\n",
      " 12.356479   10.08267005 28.53194723 32.62854802 17.61818629 33.08084645\n",
      " 29.22257858 34.59323059 15.29574934 28.15887556 22.2132342  10.25191233\n",
      " 26.76119035 31.65332968 12.99176179 23.80479846 28.21844858 35.6614223\n",
      " 15.81155569 23.27150816 17.17312654 30.58198289  8.68680302 39.54537764\n",
      " 33.56845534 32.90241382 16.43552957 14.2119654  25.48988825 10.95549519\n",
      " 19.04478616 10.28883201  6.43580122 16.69649244 30.77075869 30.06023685\n",
      " 33.17104113 15.75019191 13.19552361  3.72515105 25.08349029 16.56004285\n",
      " 30.55867003 18.15271485 13.62779586 14.25520183 28.77057633 30.04530134\n",
      " 12.03804692 15.21039516  6.18544325 18.820992   27.4987739  20.87592555\n",
      " 21.78006609 30.37835814 39.25487122 31.5268357  29.46622156 27.50947212\n",
      " 12.84340009 22.71433244 37.78778287 36.93297922 34.19206253 23.32229987\n",
      " 11.27468148 31.83931454 28.82591053 18.0487239  14.30585248 30.15043392\n",
      " 25.26784848 26.58434608 29.82187822 34.3566791  28.20098768 15.94570102\n",
      " 37.71990251 24.19754765 37.21062901 10.38303554 33.56201899 24.39069868\n",
      " 29.40414022 33.52439018 14.25083375 33.11917624 28.61186316 28.01360819\n",
      " 13.5365698  30.51669161 14.30239109 31.83263902 35.60530862 28.568048\n",
      " 27.53207483 30.27912945 22.64066524 17.9157014  32.10484306 26.01978624\n",
      " 15.41959963 11.48206191 12.09964859 10.21557133 17.72045635 11.83522432\n",
      " 30.68867642 33.10120114  5.8609058  30.24986005 31.43274594 11.12206232\n",
      "  8.7005935  24.02873973 29.48268591 33.56613864 17.76001949 32.6913485\n",
      "  8.85423692 23.16131938 19.19593113 11.69319842 15.11114778  6.87073087\n",
      " 29.14618729 34.93723464 12.24116794 36.06247867 28.42832813 18.60450643\n",
      " 11.63973235 11.49656678 34.48327534 33.89155382 32.09645255 25.42444129\n",
      " 15.39728725 20.0924715  14.3910951  13.59485879 20.64861762 11.51128217\n",
      " 13.18705814 35.50572441 30.66040955 29.74562963 10.95479454 11.5036814\n",
      " 24.15779578 12.58554787 31.48355227 38.11077952 16.51271262 25.54975254\n",
      " 15.25520442 22.08662323 13.22722433 37.18226187 12.34839373  9.4716479\n",
      " 19.24291923 31.7996296  14.65296333 32.86841116 28.58201397 14.55496004\n",
      "  9.42414201 37.5541948  10.46989654 17.18993994 17.85856819 29.84284782\n",
      "  9.12438588 14.81931285 35.02396587 17.16411426  7.17931882 13.15336294\n",
      " 32.13326095 32.13072982 32.14682865 33.26269521 17.84739975  8.5056113\n",
      " 30.06178448 40.03562755 33.24129474 20.21739595 27.68858019 28.92341375\n",
      " 19.19445229 32.3298753  29.70670147 13.30983634 14.04704021 28.718721\n",
      "  8.94772542 10.12352711 35.77953432 13.23253831 28.68441631 12.12949775\n",
      " 32.13758808 11.76015832 29.35920296 31.23467807 27.04990665 11.43202924\n",
      " 26.73457225 12.04271806 38.91586411 10.97038406 17.1306802  16.62602652\n",
      " 26.34929483 24.5555335  30.88416996 11.12897274 28.71023034 14.46645622\n",
      " 18.55886205  7.00724836 27.0003652  30.00528261 32.49957181 32.23937632\n",
      " 14.47867931 29.8178997  21.54301176 11.94323483 26.09891059 25.94923497\n",
      " 18.71900376 29.40657463 18.63183119 29.58733823 15.85273289 34.89045139\n",
      " 27.3989932  17.7190736  17.55490272 13.0104428  26.51564266 11.48679968\n",
      " 18.12377344 15.40610207 34.13459114 11.44184206  9.22691838 29.82840036\n",
      " 14.38507178 26.34468689 32.00499569 23.81129706 10.17135934 16.58471842\n",
      " 26.66068256 10.33066758 26.54518206 20.69957337 33.25390916 32.0148217\n",
      " 19.70036615 12.23527837 27.50256267 20.77744232 13.96051643 31.69042653\n",
      " 15.58941256 16.14156384 17.29533107 35.69145936 11.26376552 31.00110865\n",
      " 20.19846482 16.44567579 28.49086911 27.98385869 11.88243073 12.1668758\n",
      " 24.44873141 16.32167527 16.15679992 29.91069352 12.46922253 27.85934246\n",
      " 32.40082674 32.9845833  17.78645327 10.45492685 19.62132976 29.06253223\n",
      " 13.71823957  9.0102993  10.71448554 14.48716906 36.01881691 12.31217114\n",
      " 12.52484664 18.17776585 23.8162877  14.59361022 34.46802258 26.41380122\n",
      " 11.88846366 33.41501051 24.40262338]\n"
     ]
    }
   ],
   "source": [
    "# Prediction of Ridge Regression on training set\n",
    "\n",
    "print(\"Predictions:\", ridge_reg.predict(data_prepared))"
   ]
  },
  {
   "cell_type": "code",
   "execution_count": null,
   "metadata": {},
   "outputs": [
    {
     "name": "stdout",
     "output_type": "stream",
     "text": [
      "Labels: [15.08, 15.19, 32.31, 41.67, 29.63, 43.1, 12.88, 13.17, 10.34, 32.23, 11.16, 24.03, 31.28, 29.92, 6.4, 15.16, 40.42, 14.6, 36.43, 14.34, 11.53, 32.13, 36.57, 12.91, 10.72, 29.4, 16.48, 19.48, 16.74, 12.41, 14.21, 11.22, 13.99, 15.12, 36.7, 27.03, 32.15, 10.36, 33.28, 42.08, 26.48, 36.97, 12.63, 12.96, 14.34, 15.2, 12.46, 14.61, 19.13, 14.71, 11.64, 18.31, 10.56, 10.77, 33.24, 32.74, 18.48, 14.66, 11.1, 14.62, 12.78, 11.16, 36.47, 31.29, 36.71, 19.2, 29.47, 15.98, 14.61, 37.03, 31.63, 12.35, 12.49, 25.43, 29.49, 32.33, 36.45, 16.66, 19.95, 26.45, 24.77, 10.68, 14.16, 12.42, 14.12, 16.83, 39.32, 27.03, 35.69, 12.97, 12.87, 15.09, 16.76, 12.59, 15.16, 17.15, 12.29, 26.47, 10.39, 12.74, 11.34, 32.96, 40.11, 12.68, 13.69, 12.85, 15.41, 13.94, 32.4, 10.72, 32.12, 28.15, 13.0, 15.55, 15.16, 12.85, 32.85, 28.15, 11.22, 14.18, 33.16, 11.44, 42.62, 14.32, 37.24, 11.11, 12.57, 32.49, 24.28, 14.65, 40.57, 14.37, 15.3, 10.78, 14.22, 39.04, 36.91, 12.97, 8.45, 25.98, 12.95, 41.92, 33.21, 24.32, 16.64, 39.84, 25.36, 25.27, 32.24, 18.48, 28.88, 24.96, 41.73, 35.24, 12.84, 11.14, 38.67, 25.37, 25.66, 40.79, 29.01, 10.64, 14.62, 16.35, 15.36, 32.21, 25.49, 32.67, 14.92, 17.14, 12.93, 40.19, 15.29, 12.97, 35.67, 13.0, 25.17, 25.17, 12.78, 28.75, 10.77, 32.75, 12.43, 32.68, 18.84, 17.05, 36.52, 11.8, 40.03, 39.97, 6.05, 32.82, 10.34, 7.1, 12.02, 29.08, 29.6, 41.3, 12.34, 13.86, 11.21, 28.64, 26.89, 10.55, 29.47, 33.27, 13.95, 12.62, 37.26, 14.7, 10.68, 36.45, 38.33, 26.91, 32.53, 10.53, 15.16, 29.9, 16.92, 12.73, 23.86, 12.82, 17.26, 41.96, 12.71, 36.03, 30.0, 12.86, 12.93, 11.59, 27.27, 42.11, 19.36, 34.24, 32.39, 32.38, 16.86, 21.46, 14.28, 8.49, 38.65, 32.48, 10.38, 28.52, 24.58, 39.86, 14.54, 15.55, 17.23, 28.65, 12.57, 29.91, 28.69, 26.0, 15.34, 15.36, 24.29, 12.74, 12.47, 11.22, 6.01, 14.71, 33.27, 31.69, 24.63, 12.33, 11.42, 7.1, 23.84, 13.04, 41.09, 12.77, 13.0, 12.73, 29.08, 38.82, 10.7, 13.86, 10.68, 19.42, 24.04, 14.56, 18.71, 36.7, 39.31, 32.72, 39.72, 36.97, 14.52, 25.41, 31.89, 40.43, 28.01, 22.79, 11.07, 29.53, 27.9, 13.01, 12.12, 32.41, 29.87, 29.05, 39.83, 32.73, 24.24, 14.1, 40.15, 19.5, 32.69, 7.18, 36.95, 23.89, 26.19, 32.74, 14.5, 34.72, 32.46, 30.05, 12.1, 29.62, 15.29, 28.93, 40.71, 29.71, 24.35, 24.11, 15.23, 19.06, 35.84, 25.74, 12.28, 13.18, 15.12, 10.45, 14.32, 13.04, 29.5, 28.05, 11.34, 33.48, 39.04, 10.32, 11.61, 26.33, 32.07, 28.03, 12.19, 32.75, 11.46, 39.81, 14.71, 14.45, 14.48, 10.14, 31.12, 28.95, 14.47, 40.78, 28.17, 14.41, 12.19, 10.39, 32.05, 28.42, 39.89, 35.65, 15.4, 16.55, 12.93, 15.19, 14.33, 12.65, 11.98, 42.77, 36.86, 36.77, 15.12, 17.14, 28.67, 11.18, 31.81, 35.05, 16.99, 28.4, 11.67, 14.96, 15.09, 40.4, 14.33, 13.78, 14.51, 32.71, 11.69, 24.03, 23.87, 13.68, 6.81, 29.22, 10.35, 15.16, 14.07, 32.21, 13.02, 14.42, 24.35, 17.14, 12.36, 14.61, 36.45, 23.59, 28.4, 25.48, 14.03, 10.15, 20.84, 42.49, 29.52, 15.34, 42.5, 24.13, 17.17, 35.64, 36.06, 8.5, 6.85, 26.44, 11.33, 6.04, 35.4, 11.33, 29.09, 17.02, 28.15, 12.31, 32.29, 41.64, 39.01, 15.34, 23.54, 12.92, 39.68, 11.45, 14.39, 16.73, 35.56, 16.95, 22.93, 10.85, 25.7, 17.11, 15.36, 10.08, 29.03, 28.57, 32.0, 26.45, 12.49, 36.26, 16.44, 10.7, 25.37, 35.48, 14.55, 38.35, 14.33, 27.02, 15.23, 32.4, 15.55, 16.9, 14.7, 11.11, 22.8, 6.77, 12.27, 16.86, 36.81, 12.2, 15.21, 28.6, 15.23, 29.87, 24.33, 17.41, 12.45, 14.54, 28.63, 11.14, 32.33, 18.19, 38.89, 33.13, 12.76, 12.12, 24.26, 15.23, 14.42, 28.64, 12.63, 14.44, 16.62, 31.66, 12.25, 26.37, 16.56, 14.51, 24.37, 23.93, 12.5, 12.43, 35.78, 11.38, 12.73, 28.56, 12.28, 29.39, 31.66, 36.96, 15.18, 11.32, 14.9, 24.25, 13.05, 11.69, 12.18, 17.52, 33.09, 12.67, 10.46, 15.09, 24.77, 14.6, 32.21, 26.33, 10.67, 28.62, 28.83]\n"
     ]
    }
   ],
   "source": [
    "#Comparison to the exsiting values \n",
    "print(\"Labels:\", list(data_labels))"
   ]
  },
  {
   "cell_type": "code",
   "execution_count": null,
   "metadata": {},
   "outputs": [
    {
     "data": {
      "text/plain": [
       "4.522611698211332"
      ]
     },
     "execution_count": 55,
     "metadata": {},
     "output_type": "execute_result"
    }
   ],
   "source": [
    "# RMSE error on the Ridge Regression in relation to the training set\n",
    "from sklearn.metrics import mean_squared_error\n",
    "data_predictions2 = ridge_reg.predict(data_prepared) # Predictions\n",
    "lin_mse2 = mean_squared_error(data_labels, data_predictions2) \n",
    "lin_rmse2 = np.sqrt(lin_mse2)\n",
    "lin_rmse2"
   ]
  },
  {
   "cell_type": "code",
   "execution_count": null,
   "metadata": {},
   "outputs": [
    {
     "data": {
      "text/plain": [
       "{'alpha': 1.0,\n",
       " 'copy_X': True,\n",
       " 'fit_intercept': True,\n",
       " 'max_iter': None,\n",
       " 'positive': False,\n",
       " 'random_state': 42,\n",
       " 'solver': 'auto',\n",
       " 'tol': 0.0001}"
      ]
     },
     "execution_count": 56,
     "metadata": {},
     "output_type": "execute_result"
    }
   ],
   "source": [
    "ridge_reg.get_params() # Shows the parameters of the ridge regression"
   ]
  },
  {
   "cell_type": "code",
   "execution_count": null,
   "metadata": {},
   "outputs": [
    {
     "data": {
      "text/html": [
       "<style>#sk-container-id-8 {color: black;background-color: white;}#sk-container-id-8 pre{padding: 0;}#sk-container-id-8 div.sk-toggleable {background-color: white;}#sk-container-id-8 label.sk-toggleable__label {cursor: pointer;display: block;width: 100%;margin-bottom: 0;padding: 0.3em;box-sizing: border-box;text-align: center;}#sk-container-id-8 label.sk-toggleable__label-arrow:before {content: \"▸\";float: left;margin-right: 0.25em;color: #696969;}#sk-container-id-8 label.sk-toggleable__label-arrow:hover:before {color: black;}#sk-container-id-8 div.sk-estimator:hover label.sk-toggleable__label-arrow:before {color: black;}#sk-container-id-8 div.sk-toggleable__content {max-height: 0;max-width: 0;overflow: hidden;text-align: left;background-color: #f0f8ff;}#sk-container-id-8 div.sk-toggleable__content pre {margin: 0.2em;color: black;border-radius: 0.25em;background-color: #f0f8ff;}#sk-container-id-8 input.sk-toggleable__control:checked~div.sk-toggleable__content {max-height: 200px;max-width: 100%;overflow: auto;}#sk-container-id-8 input.sk-toggleable__control:checked~label.sk-toggleable__label-arrow:before {content: \"▾\";}#sk-container-id-8 div.sk-estimator input.sk-toggleable__control:checked~label.sk-toggleable__label {background-color: #d4ebff;}#sk-container-id-8 div.sk-label input.sk-toggleable__control:checked~label.sk-toggleable__label {background-color: #d4ebff;}#sk-container-id-8 input.sk-hidden--visually {border: 0;clip: rect(1px 1px 1px 1px);clip: rect(1px, 1px, 1px, 1px);height: 1px;margin: -1px;overflow: hidden;padding: 0;position: absolute;width: 1px;}#sk-container-id-8 div.sk-estimator {font-family: monospace;background-color: #f0f8ff;border: 1px dotted black;border-radius: 0.25em;box-sizing: border-box;margin-bottom: 0.5em;}#sk-container-id-8 div.sk-estimator:hover {background-color: #d4ebff;}#sk-container-id-8 div.sk-parallel-item::after {content: \"\";width: 100%;border-bottom: 1px solid gray;flex-grow: 1;}#sk-container-id-8 div.sk-label:hover label.sk-toggleable__label {background-color: #d4ebff;}#sk-container-id-8 div.sk-serial::before {content: \"\";position: absolute;border-left: 1px solid gray;box-sizing: border-box;top: 0;bottom: 0;left: 50%;z-index: 0;}#sk-container-id-8 div.sk-serial {display: flex;flex-direction: column;align-items: center;background-color: white;padding-right: 0.2em;padding-left: 0.2em;position: relative;}#sk-container-id-8 div.sk-item {position: relative;z-index: 1;}#sk-container-id-8 div.sk-parallel {display: flex;align-items: stretch;justify-content: center;background-color: white;position: relative;}#sk-container-id-8 div.sk-item::before, #sk-container-id-8 div.sk-parallel-item::before {content: \"\";position: absolute;border-left: 1px solid gray;box-sizing: border-box;top: 0;bottom: 0;left: 50%;z-index: -1;}#sk-container-id-8 div.sk-parallel-item {display: flex;flex-direction: column;z-index: 1;position: relative;background-color: white;}#sk-container-id-8 div.sk-parallel-item:first-child::after {align-self: flex-end;width: 50%;}#sk-container-id-8 div.sk-parallel-item:last-child::after {align-self: flex-start;width: 50%;}#sk-container-id-8 div.sk-parallel-item:only-child::after {width: 0;}#sk-container-id-8 div.sk-dashed-wrapped {border: 1px dashed gray;margin: 0 0.4em 0.5em 0.4em;box-sizing: border-box;padding-bottom: 0.4em;background-color: white;}#sk-container-id-8 div.sk-label label {font-family: monospace;font-weight: bold;display: inline-block;line-height: 1.2em;}#sk-container-id-8 div.sk-label-container {text-align: center;}#sk-container-id-8 div.sk-container {/* jupyter's `normalize.less` sets `[hidden] { display: none; }` but bootstrap.min.css set `[hidden] { display: none !important; }` so we also need the `!important` here to be able to override the default hidden behavior on the sphinx rendered scikit-learn.org. See: https://github.com/scikit-learn/scikit-learn/issues/21755 */display: inline-block !important;position: relative;}#sk-container-id-8 div.sk-text-repr-fallback {display: none;}</style><div id=\"sk-container-id-8\" class=\"sk-top-container\"><div class=\"sk-text-repr-fallback\"><pre>GridSearchCV(cv=5, estimator=Ridge(random_state=42),\n",
       "             param_grid={&#x27;alpha&#x27;: [0.001, 0.01, 0.1, 1, 5, 10]},\n",
       "             scoring=&#x27;neg_mean_squared_error&#x27;)</pre><b>In a Jupyter environment, please rerun this cell to show the HTML representation or trust the notebook. <br />On GitHub, the HTML representation is unable to render, please try loading this page with nbviewer.org.</b></div><div class=\"sk-container\" hidden><div class=\"sk-item sk-dashed-wrapped\"><div class=\"sk-label-container\"><div class=\"sk-label sk-toggleable\"><input class=\"sk-toggleable__control sk-hidden--visually\" id=\"sk-estimator-id-12\" type=\"checkbox\" ><label for=\"sk-estimator-id-12\" class=\"sk-toggleable__label sk-toggleable__label-arrow\">GridSearchCV</label><div class=\"sk-toggleable__content\"><pre>GridSearchCV(cv=5, estimator=Ridge(random_state=42),\n",
       "             param_grid={&#x27;alpha&#x27;: [0.001, 0.01, 0.1, 1, 5, 10]},\n",
       "             scoring=&#x27;neg_mean_squared_error&#x27;)</pre></div></div></div><div class=\"sk-parallel\"><div class=\"sk-parallel-item\"><div class=\"sk-item\"><div class=\"sk-label-container\"><div class=\"sk-label sk-toggleable\"><input class=\"sk-toggleable__control sk-hidden--visually\" id=\"sk-estimator-id-13\" type=\"checkbox\" ><label for=\"sk-estimator-id-13\" class=\"sk-toggleable__label sk-toggleable__label-arrow\">estimator: Ridge</label><div class=\"sk-toggleable__content\"><pre>Ridge(random_state=42)</pre></div></div></div><div class=\"sk-serial\"><div class=\"sk-item\"><div class=\"sk-estimator sk-toggleable\"><input class=\"sk-toggleable__control sk-hidden--visually\" id=\"sk-estimator-id-14\" type=\"checkbox\" ><label for=\"sk-estimator-id-14\" class=\"sk-toggleable__label sk-toggleable__label-arrow\">Ridge</label><div class=\"sk-toggleable__content\"><pre>Ridge(random_state=42)</pre></div></div></div></div></div></div></div></div></div></div>"
      ],
      "text/plain": [
       "GridSearchCV(cv=5, estimator=Ridge(random_state=42),\n",
       "             param_grid={'alpha': [0.001, 0.01, 0.1, 1, 5, 10]},\n",
       "             scoring='neg_mean_squared_error')"
      ]
     },
     "execution_count": 57,
     "metadata": {},
     "output_type": "execute_result"
    }
   ],
   "source": [
    "from sklearn.model_selection import GridSearchCV #GridSearchCV is used to find the best parameters for the model \n",
    "parameters={'alpha':[0.001, 0.01, 0.1,1,5,10]} #The parameters that are being tested \n",
    "ridge_regressor=GridSearchCV(ridge_reg,parameters,scoring='neg_mean_squared_error',cv=5) #The model that is being tested\n",
    "ridge_regressor.fit(data_prepared,data_labels)"
   ]
  },
  {
   "cell_type": "code",
   "execution_count": null,
   "metadata": {},
   "outputs": [
    {
     "data": {
      "text/plain": [
       "{'alpha': 5}"
      ]
     },
     "execution_count": 45,
     "metadata": {},
     "output_type": "execute_result"
    }
   ],
   "source": [
    "#Shows the best possible parameters \n",
    "ridge_regressor.best_params_"
   ]
  },
  {
   "cell_type": "code",
   "execution_count": null,
   "metadata": {},
   "outputs": [
    {
     "data": {
      "text/html": [
       "<style>#sk-container-id-6 {color: black;background-color: white;}#sk-container-id-6 pre{padding: 0;}#sk-container-id-6 div.sk-toggleable {background-color: white;}#sk-container-id-6 label.sk-toggleable__label {cursor: pointer;display: block;width: 100%;margin-bottom: 0;padding: 0.3em;box-sizing: border-box;text-align: center;}#sk-container-id-6 label.sk-toggleable__label-arrow:before {content: \"▸\";float: left;margin-right: 0.25em;color: #696969;}#sk-container-id-6 label.sk-toggleable__label-arrow:hover:before {color: black;}#sk-container-id-6 div.sk-estimator:hover label.sk-toggleable__label-arrow:before {color: black;}#sk-container-id-6 div.sk-toggleable__content {max-height: 0;max-width: 0;overflow: hidden;text-align: left;background-color: #f0f8ff;}#sk-container-id-6 div.sk-toggleable__content pre {margin: 0.2em;color: black;border-radius: 0.25em;background-color: #f0f8ff;}#sk-container-id-6 input.sk-toggleable__control:checked~div.sk-toggleable__content {max-height: 200px;max-width: 100%;overflow: auto;}#sk-container-id-6 input.sk-toggleable__control:checked~label.sk-toggleable__label-arrow:before {content: \"▾\";}#sk-container-id-6 div.sk-estimator input.sk-toggleable__control:checked~label.sk-toggleable__label {background-color: #d4ebff;}#sk-container-id-6 div.sk-label input.sk-toggleable__control:checked~label.sk-toggleable__label {background-color: #d4ebff;}#sk-container-id-6 input.sk-hidden--visually {border: 0;clip: rect(1px 1px 1px 1px);clip: rect(1px, 1px, 1px, 1px);height: 1px;margin: -1px;overflow: hidden;padding: 0;position: absolute;width: 1px;}#sk-container-id-6 div.sk-estimator {font-family: monospace;background-color: #f0f8ff;border: 1px dotted black;border-radius: 0.25em;box-sizing: border-box;margin-bottom: 0.5em;}#sk-container-id-6 div.sk-estimator:hover {background-color: #d4ebff;}#sk-container-id-6 div.sk-parallel-item::after {content: \"\";width: 100%;border-bottom: 1px solid gray;flex-grow: 1;}#sk-container-id-6 div.sk-label:hover label.sk-toggleable__label {background-color: #d4ebff;}#sk-container-id-6 div.sk-serial::before {content: \"\";position: absolute;border-left: 1px solid gray;box-sizing: border-box;top: 0;bottom: 0;left: 50%;z-index: 0;}#sk-container-id-6 div.sk-serial {display: flex;flex-direction: column;align-items: center;background-color: white;padding-right: 0.2em;padding-left: 0.2em;position: relative;}#sk-container-id-6 div.sk-item {position: relative;z-index: 1;}#sk-container-id-6 div.sk-parallel {display: flex;align-items: stretch;justify-content: center;background-color: white;position: relative;}#sk-container-id-6 div.sk-item::before, #sk-container-id-6 div.sk-parallel-item::before {content: \"\";position: absolute;border-left: 1px solid gray;box-sizing: border-box;top: 0;bottom: 0;left: 50%;z-index: -1;}#sk-container-id-6 div.sk-parallel-item {display: flex;flex-direction: column;z-index: 1;position: relative;background-color: white;}#sk-container-id-6 div.sk-parallel-item:first-child::after {align-self: flex-end;width: 50%;}#sk-container-id-6 div.sk-parallel-item:last-child::after {align-self: flex-start;width: 50%;}#sk-container-id-6 div.sk-parallel-item:only-child::after {width: 0;}#sk-container-id-6 div.sk-dashed-wrapped {border: 1px dashed gray;margin: 0 0.4em 0.5em 0.4em;box-sizing: border-box;padding-bottom: 0.4em;background-color: white;}#sk-container-id-6 div.sk-label label {font-family: monospace;font-weight: bold;display: inline-block;line-height: 1.2em;}#sk-container-id-6 div.sk-label-container {text-align: center;}#sk-container-id-6 div.sk-container {/* jupyter's `normalize.less` sets `[hidden] { display: none; }` but bootstrap.min.css set `[hidden] { display: none !important; }` so we also need the `!important` here to be able to override the default hidden behavior on the sphinx rendered scikit-learn.org. See: https://github.com/scikit-learn/scikit-learn/issues/21755 */display: inline-block !important;position: relative;}#sk-container-id-6 div.sk-text-repr-fallback {display: none;}</style><div id=\"sk-container-id-6\" class=\"sk-top-container\"><div class=\"sk-text-repr-fallback\"><pre>Ridge(alpha=5, random_state=23)</pre><b>In a Jupyter environment, please rerun this cell to show the HTML representation or trust the notebook. <br />On GitHub, the HTML representation is unable to render, please try loading this page with nbviewer.org.</b></div><div class=\"sk-container\" hidden><div class=\"sk-item\"><div class=\"sk-estimator sk-toggleable\"><input class=\"sk-toggleable__control sk-hidden--visually\" id=\"sk-estimator-id-10\" type=\"checkbox\" checked><label for=\"sk-estimator-id-10\" class=\"sk-toggleable__label sk-toggleable__label-arrow\">Ridge</label><div class=\"sk-toggleable__content\"><pre>Ridge(alpha=5, random_state=23)</pre></div></div></div></div></div>"
      ],
      "text/plain": [
       "Ridge(alpha=5, random_state=23)"
      ]
     },
     "execution_count": 46,
     "metadata": {},
     "output_type": "execute_result"
    }
   ],
   "source": [
    "ridge_regressor.best_estimator_"
   ]
  },
  {
   "cell_type": "code",
   "execution_count": null,
   "metadata": {},
   "outputs": [
    {
     "data": {
      "text/html": [
       "<div>\n",
       "<style scoped>\n",
       "    .dataframe tbody tr th:only-of-type {\n",
       "        vertical-align: middle;\n",
       "    }\n",
       "\n",
       "    .dataframe tbody tr th {\n",
       "        vertical-align: top;\n",
       "    }\n",
       "\n",
       "    .dataframe thead th {\n",
       "        text-align: right;\n",
       "    }\n",
       "</style>\n",
       "<table border=\"1\" class=\"dataframe\">\n",
       "  <thead>\n",
       "    <tr style=\"text-align: right;\">\n",
       "      <th></th>\n",
       "      <th>mean_fit_time</th>\n",
       "      <th>std_fit_time</th>\n",
       "      <th>mean_score_time</th>\n",
       "      <th>std_score_time</th>\n",
       "      <th>param_alpha</th>\n",
       "      <th>params</th>\n",
       "      <th>split0_test_score</th>\n",
       "      <th>split1_test_score</th>\n",
       "      <th>split2_test_score</th>\n",
       "      <th>split3_test_score</th>\n",
       "      <th>split4_test_score</th>\n",
       "      <th>mean_test_score</th>\n",
       "      <th>std_test_score</th>\n",
       "      <th>rank_test_score</th>\n",
       "    </tr>\n",
       "  </thead>\n",
       "  <tbody>\n",
       "    <tr>\n",
       "      <th>0</th>\n",
       "      <td>0.037599</td>\n",
       "      <td>0.057607</td>\n",
       "      <td>0.004998</td>\n",
       "      <td>0.006230</td>\n",
       "      <td>0.001</td>\n",
       "      <td>{'alpha': 0.001}</td>\n",
       "      <td>-19.026522</td>\n",
       "      <td>-23.145076</td>\n",
       "      <td>-21.837626</td>\n",
       "      <td>-24.059301</td>\n",
       "      <td>-18.729382</td>\n",
       "      <td>-21.359581</td>\n",
       "      <td>2.147842</td>\n",
       "      <td>6</td>\n",
       "    </tr>\n",
       "    <tr>\n",
       "      <th>1</th>\n",
       "      <td>0.002402</td>\n",
       "      <td>0.001500</td>\n",
       "      <td>0.002200</td>\n",
       "      <td>0.002040</td>\n",
       "      <td>0.01</td>\n",
       "      <td>{'alpha': 0.01}</td>\n",
       "      <td>-19.026440</td>\n",
       "      <td>-23.145423</td>\n",
       "      <td>-21.837554</td>\n",
       "      <td>-24.058915</td>\n",
       "      <td>-18.729366</td>\n",
       "      <td>-21.359539</td>\n",
       "      <td>2.147821</td>\n",
       "      <td>5</td>\n",
       "    </tr>\n",
       "    <tr>\n",
       "      <th>2</th>\n",
       "      <td>0.005201</td>\n",
       "      <td>0.003546</td>\n",
       "      <td>0.001800</td>\n",
       "      <td>0.000751</td>\n",
       "      <td>0.1</td>\n",
       "      <td>{'alpha': 0.1}</td>\n",
       "      <td>-19.025624</td>\n",
       "      <td>-23.148888</td>\n",
       "      <td>-21.836835</td>\n",
       "      <td>-24.055058</td>\n",
       "      <td>-18.729211</td>\n",
       "      <td>-21.359123</td>\n",
       "      <td>2.147612</td>\n",
       "      <td>4</td>\n",
       "    </tr>\n",
       "    <tr>\n",
       "      <th>3</th>\n",
       "      <td>0.074401</td>\n",
       "      <td>0.145305</td>\n",
       "      <td>0.002005</td>\n",
       "      <td>0.002541</td>\n",
       "      <td>1</td>\n",
       "      <td>{'alpha': 1}</td>\n",
       "      <td>-19.017877</td>\n",
       "      <td>-23.183543</td>\n",
       "      <td>-21.830148</td>\n",
       "      <td>-24.017169</td>\n",
       "      <td>-18.727887</td>\n",
       "      <td>-21.355325</td>\n",
       "      <td>2.145709</td>\n",
       "      <td>3</td>\n",
       "    </tr>\n",
       "    <tr>\n",
       "      <th>4</th>\n",
       "      <td>0.003410</td>\n",
       "      <td>0.002873</td>\n",
       "      <td>0.002192</td>\n",
       "      <td>0.002028</td>\n",
       "      <td>5</td>\n",
       "      <td>{'alpha': 5}</td>\n",
       "      <td>-18.991884</td>\n",
       "      <td>-23.337567</td>\n",
       "      <td>-21.810623</td>\n",
       "      <td>-23.862836</td>\n",
       "      <td>-18.726730</td>\n",
       "      <td>-21.345928</td>\n",
       "      <td>2.140987</td>\n",
       "      <td>1</td>\n",
       "    </tr>\n",
       "    <tr>\n",
       "      <th>5</th>\n",
       "      <td>0.004607</td>\n",
       "      <td>0.004027</td>\n",
       "      <td>0.000798</td>\n",
       "      <td>0.000399</td>\n",
       "      <td>10</td>\n",
       "      <td>{'alpha': 10}</td>\n",
       "      <td>-18.976497</td>\n",
       "      <td>-23.529858</td>\n",
       "      <td>-21.806966</td>\n",
       "      <td>-23.698847</td>\n",
       "      <td>-18.734635</td>\n",
       "      <td>-21.349360</td>\n",
       "      <td>2.142490</td>\n",
       "      <td>2</td>\n",
       "    </tr>\n",
       "  </tbody>\n",
       "</table>\n",
       "</div>"
      ],
      "text/plain": [
       "   mean_fit_time  std_fit_time  mean_score_time  std_score_time param_alpha  \\\n",
       "0       0.037599      0.057607         0.004998        0.006230       0.001   \n",
       "1       0.002402      0.001500         0.002200        0.002040        0.01   \n",
       "2       0.005201      0.003546         0.001800        0.000751         0.1   \n",
       "3       0.074401      0.145305         0.002005        0.002541           1   \n",
       "4       0.003410      0.002873         0.002192        0.002028           5   \n",
       "5       0.004607      0.004027         0.000798        0.000399          10   \n",
       "\n",
       "             params  split0_test_score  split1_test_score  split2_test_score  \\\n",
       "0  {'alpha': 0.001}         -19.026522         -23.145076         -21.837626   \n",
       "1   {'alpha': 0.01}         -19.026440         -23.145423         -21.837554   \n",
       "2    {'alpha': 0.1}         -19.025624         -23.148888         -21.836835   \n",
       "3      {'alpha': 1}         -19.017877         -23.183543         -21.830148   \n",
       "4      {'alpha': 5}         -18.991884         -23.337567         -21.810623   \n",
       "5     {'alpha': 10}         -18.976497         -23.529858         -21.806966   \n",
       "\n",
       "   split3_test_score  split4_test_score  mean_test_score  std_test_score  \\\n",
       "0         -24.059301         -18.729382       -21.359581        2.147842   \n",
       "1         -24.058915         -18.729366       -21.359539        2.147821   \n",
       "2         -24.055058         -18.729211       -21.359123        2.147612   \n",
       "3         -24.017169         -18.727887       -21.355325        2.145709   \n",
       "4         -23.862836         -18.726730       -21.345928        2.140987   \n",
       "5         -23.698847         -18.734635       -21.349360        2.142490   \n",
       "\n",
       "   rank_test_score  \n",
       "0                6  \n",
       "1                5  \n",
       "2                4  \n",
       "3                3  \n",
       "4                1  \n",
       "5                2  "
      ]
     },
     "execution_count": 47,
     "metadata": {},
     "output_type": "execute_result"
    }
   ],
   "source": [
    "# Cross validation results in full as a dataframe\n",
    "pd.DataFrame(ridge_regressor.cv_results_)"
   ]
  },
  {
   "cell_type": "code",
   "execution_count": null,
   "metadata": {},
   "outputs": [],
   "source": [
    "# Evaluating my optimised system on the test set\n",
    "\n",
    "final_model = ridge_regressor.best_estimator_\n",
    "\n",
    "X_test = test_set.drop(\"Y\", axis=1)\n",
    "y_test = test_set[\"Y\"].copy()\n",
    "\n",
    "X_test_prepared = full_pipeline.transform(X_test)\n",
    "final_predictions = final_model.predict(X_test_prepared)\n",
    "\n",
    "final_mse = mean_squared_error(y_test, final_predictions)\n",
    "final_rmse = np.sqrt(final_mse)"
   ]
  },
  {
   "cell_type": "code",
   "execution_count": null,
   "metadata": {},
   "outputs": [
    {
     "name": "stdout",
     "output_type": "stream",
     "text": [
      "RMSE before optimisation: 4.522611698211332\n",
      "Final RMSE after optimisation: 4.384157959836937\n"
     ]
    }
   ],
   "source": [
    "# Comparison of RMSE before and after optimisation \n",
    "\n",
    "print(\"RMSE before optimisation:\",lin_rmse2)\n",
    "print(\"Final RMSE after optimisation:\",final_rmse) "
   ]
  },
  {
   "attachments": {},
   "cell_type": "markdown",
   "metadata": {},
   "source": [
    "<h2><b><u>Polynomial regression</u></b></h2>\n",
    "\n",
    "Polynomial regression is a form of regression analysis in which the relationship between the independent variable x and the dependent variable y is modelled as an nth degree polynomial in x. Polynomial regression fits a nonlinear relationship between the value of x and the corresponding conditional mean of y, denoted E(y|x). Polynomial regression is a special case of the general linear regression model."
   ]
  },
  {
   "cell_type": "code",
   "execution_count": 96,
   "metadata": {},
   "outputs": [],
   "source": [
    "from sklearn.preprocessing import PolynomialFeatures\n",
    "from sklearn.linear_model import Ridge\n",
    "from sklearn.metrics import mean_squared_error\n",
    "from sklearn.model_selection import train_test_split\n",
    "from sklearn.model_selection import GridSearchCV\n",
    "\n",
    "X_train = data[['X0', 'X1', 'X2', 'X3', 'X4', 'X5', 'X6', 'X7', 'X8']]\n",
    "y = data['Y']\n"
   ]
  },
  {
   "cell_type": "code",
   "execution_count": 97,
   "metadata": {},
   "outputs": [],
   "source": [
    "poly_features = PolynomialFeatures(degree=2, include_bias=False) # degree of polynomial features\n"
   ]
  },
  {
   "cell_type": "code",
   "execution_count": 98,
   "metadata": {},
   "outputs": [],
   "source": [
    "X_poly = poly_features.fit_transform(X) # transforms the existing features to higher degree features.\n"
   ]
  },
  {
   "cell_type": "code",
   "execution_count": 99,
   "metadata": {},
   "outputs": [
    {
     "data": {
      "text/plain": [
       "array([6.1000e-01, 8.0042e+02, 3.6382e+02, 2.4255e+02, 2.8400e+00,\n",
       "       3.9600e+00, 2.4000e-01, 9.9000e-01])"
      ]
     },
     "execution_count": 99,
     "metadata": {},
     "output_type": "execute_result"
    }
   ],
   "source": [
    "X[0] # original features\n"
   ]
  },
  {
   "cell_type": "code",
   "execution_count": 100,
   "metadata": {},
   "outputs": [
    {
     "data": {
      "text/plain": [
       "array([6.10000000e-01, 8.00420000e+02, 3.63820000e+02, 2.42550000e+02,\n",
       "       2.84000000e+00, 3.96000000e+00, 2.40000000e-01, 9.90000000e-01,\n",
       "       3.72100000e-01, 4.88256200e+02, 2.21930200e+02, 1.47955500e+02,\n",
       "       1.73240000e+00, 2.41560000e+00, 1.46400000e-01, 6.03900000e-01,\n",
       "       6.40672176e+05, 2.91208804e+05, 1.94141871e+05, 2.27319280e+03,\n",
       "       3.16966320e+03, 1.92100800e+02, 7.92415800e+02, 1.32364992e+05,\n",
       "       8.82445410e+04, 1.03324880e+03, 1.44072720e+03, 8.73168000e+01,\n",
       "       3.60181800e+02, 5.88305025e+04, 6.88842000e+02, 9.60498000e+02,\n",
       "       5.82120000e+01, 2.40124500e+02, 8.06560000e+00, 1.12464000e+01,\n",
       "       6.81600000e-01, 2.81160000e+00, 1.56816000e+01, 9.50400000e-01,\n",
       "       3.92040000e+00, 5.76000000e-02, 2.37600000e-01, 9.80100000e-01])"
      ]
     },
     "execution_count": 100,
     "metadata": {},
     "output_type": "execute_result"
    }
   ],
   "source": [
    "X_poly[0] # The first feature is the constant term, the second is the first feature, the third is the second feature, and so on."
   ]
  },
  {
   "cell_type": "code",
   "execution_count": 101,
   "metadata": {},
   "outputs": [],
   "source": [
    "y = y[:537] # The target variable is the same length as the number of rows in the data"
   ]
  },
  {
   "cell_type": "code",
   "execution_count": 110,
   "metadata": {},
   "outputs": [
    {
     "data": {
      "text/plain": [
       "(-25.39470454090145,\n",
       " array([ 1.08348921e+02, -1.83596104e-03,  5.26589855e-02,  1.73574728e-01,\n",
       "         2.51731336e+00, -1.05919231e+01, -4.97958288e+01,  2.20158176e+00,\n",
       "        -2.67600014e+01, -3.09659693e-02, -6.23044049e-02, -1.38095083e-01,\n",
       "        -2.62280631e-01, -4.27639841e-01, -5.66328574e+00,  5.22055507e-01,\n",
       "         8.78656950e-05, -1.86311940e-04, -2.57541102e-04,  1.66497166e-03,\n",
       "         4.55413467e-04,  4.13471702e-02, -2.96305124e-03,  1.97148476e-04,\n",
       "        -1.54677522e-04, -5.50523346e-03,  6.07825538e-03, -4.86152827e-02,\n",
       "         3.41124676e-03,  2.36449058e-04, -4.59823612e-03,  1.99720883e-02,\n",
       "         7.83167326e-02, -1.87235740e-03, -2.00230231e-01,  5.06591847e-01,\n",
       "         2.99929463e+00, -3.56524105e-01,  3.15296116e-01, -1.37250973e+00,\n",
       "         2.56647562e-01,  4.36801990e+01, -1.75603130e+00, -3.21588994e-03]))"
      ]
     },
     "execution_count": 110,
     "metadata": {},
     "output_type": "execute_result"
    }
   ],
   "source": [
    "lin_reg = LinearRegression() # Create a linear regression object\n",
    "lin_reg.fit(X_poly, y)\n",
    "lin_reg.intercept_, lin_reg.coef_\n"
   ]
  },
  {
   "cell_type": "code",
   "execution_count": 120,
   "metadata": {},
   "outputs": [],
   "source": [
    "def plot_learning_curves(model, X, y):\n",
    "    X_train, X_val, y_train, y_val = train_test_split(X, y, test_size=0.3) # 30% test set\n",
    "    train_errors, val_errors = [], []                  # empty lists\n",
    "    for m in range(1, len(X_train)):                 # 1, 2, ..., len(X_train) - 1 \n",
    "        model.fit(X_train[:m], y_train[:m])                   # train the model on the first m instances \n",
    "        y_train_predict = model.predict(X_train[:m])            # predict the first m instances\n",
    "        y_val_predict = model.predict(X_val)                   # predict the validation set\n",
    "        train_errors.append(mean_squared_error(y_train[:m], y_train_predict)) # compute the training error\n",
    "        val_errors.append(mean_squared_error(y_val, y_val_predict)) # compute the validation error\n",
    "    plt.plot(np.sqrt(train_errors), \"r-+\", linewidth=2, label=\"train\") # plot the training error\n",
    "    plt.plot(np.sqrt(val_errors), \"b-\", linewidth=3, label=\"val\") # plot the validation error\n",
    "\n",
    "\n"
   ]
  },
  {
   "cell_type": "code",
   "execution_count": 119,
   "metadata": {},
   "outputs": [
    {
     "data": {
      "image/png": "[encoded data removed]",
      "text/plain": [
       "<Figure size 640x480 with 1 Axes>"
      ]
     },
     "metadata": {},
     "output_type": "display_data"
    }
   ],
   "source": [
    "lin_reg = LinearRegression() # create a linear regression model\n",
    "plot_learning_curves(lin_reg, X, y)\n"
   ]
  },
  {
   "cell_type": "code",
   "execution_count": 238,
   "metadata": {},
   "outputs": [
    {
     "name": "stdout",
     "output_type": "stream",
     "text": [
      "RMSE before optimisation:      X0    X1      X2      X3    X5    X6    X7    X8      Y\n",
      "0    C3  1.19  622.55     NaN  7.00  1.98  0.00  0.00  15.55\n",
      "1    C1  1.19  622.55  323.40  7.70  3.00  0.00  0.00  15.55\n",
      "2    C1  0.88  463.05  291.06  5.67  4.40  0.00  0.00  15.55\n",
      "3    C2  0.79  509.36  291.06  6.30  4.05  0.00  0.00  15.55\n",
      "4    C1  0.89  507.15  385.39  7.70  2.00  0.00  0.00  20.84\n",
      "..   ..   ...     ...     ...   ...   ...   ...   ...    ...\n",
      "763  C3  0.52  948.64  277.83  4.24  4.95  0.48  4.05  17.88\n",
      "764  C2  0.50  727.65     NaN  3.47  1.98  0.44  5.00  16.54\n",
      "765  C1  0.68  889.35  404.25  3.47  2.43  0.40  4.95  16.44\n",
      "766  C3  0.50  654.88  363.82  3.15  3.96  0.36  4.50  16.48\n",
      "767  C3  0.50  800.42  404.25  2.84  4.05  0.32  4.95  16.64\n",
      "\n",
      "[768 rows x 9 columns]\n",
      "Final RMSE after optimisation: 4.384157959836937\n"
     ]
    }
   ],
   "source": [
    "print(\"RMSE before optimisation:\",X) # RMSE before optimisation\n",
    "print(\"Final RMSE after optimisation:\",final_rmse)  # RMSE after optimisation"
   ]
  },
  {
   "attachments": {},
   "cell_type": "markdown",
   "metadata": {},
   "source": [
    "<h2><b><u>Linear regression</u></b></h2>\n",
    "\n",
    "Linear regression is a linear model, e.g. a model that assumes a linear relationship between the input variables (x) and the single output variable (y). More specifically, that y can be calculated from a linear combination of the input variables (x). It is called linear regression because it models the relationship between the input variables (x) and the output variables (y) as a linear function. This is means that it's a parametric method, which assumes a form for the problem and searches for the best parameters for that form."
   ]
  },
  {
   "cell_type": "code",
   "execution_count": 218,
   "metadata": {},
   "outputs": [
    {
     "data": {
      "text/html": [
       "<style>#sk-container-id-10 {color: black;background-color: white;}#sk-container-id-10 pre{padding: 0;}#sk-container-id-10 div.sk-toggleable {background-color: white;}#sk-container-id-10 label.sk-toggleable__label {cursor: pointer;display: block;width: 100%;margin-bottom: 0;padding: 0.3em;box-sizing: border-box;text-align: center;}#sk-container-id-10 label.sk-toggleable__label-arrow:before {content: \"▸\";float: left;margin-right: 0.25em;color: #696969;}#sk-container-id-10 label.sk-toggleable__label-arrow:hover:before {color: black;}#sk-container-id-10 div.sk-estimator:hover label.sk-toggleable__label-arrow:before {color: black;}#sk-container-id-10 div.sk-toggleable__content {max-height: 0;max-width: 0;overflow: hidden;text-align: left;background-color: #f0f8ff;}#sk-container-id-10 div.sk-toggleable__content pre {margin: 0.2em;color: black;border-radius: 0.25em;background-color: #f0f8ff;}#sk-container-id-10 input.sk-toggleable__control:checked~div.sk-toggleable__content {max-height: 200px;max-width: 100%;overflow: auto;}#sk-container-id-10 input.sk-toggleable__control:checked~label.sk-toggleable__label-arrow:before {content: \"▾\";}#sk-container-id-10 div.sk-estimator input.sk-toggleable__control:checked~label.sk-toggleable__label {background-color: #d4ebff;}#sk-container-id-10 div.sk-label input.sk-toggleable__control:checked~label.sk-toggleable__label {background-color: #d4ebff;}#sk-container-id-10 input.sk-hidden--visually {border: 0;clip: rect(1px 1px 1px 1px);clip: rect(1px, 1px, 1px, 1px);height: 1px;margin: -1px;overflow: hidden;padding: 0;position: absolute;width: 1px;}#sk-container-id-10 div.sk-estimator {font-family: monospace;background-color: #f0f8ff;border: 1px dotted black;border-radius: 0.25em;box-sizing: border-box;margin-bottom: 0.5em;}#sk-container-id-10 div.sk-estimator:hover {background-color: #d4ebff;}#sk-container-id-10 div.sk-parallel-item::after {content: \"\";width: 100%;border-bottom: 1px solid gray;flex-grow: 1;}#sk-container-id-10 div.sk-label:hover label.sk-toggleable__label {background-color: #d4ebff;}#sk-container-id-10 div.sk-serial::before {content: \"\";position: absolute;border-left: 1px solid gray;box-sizing: border-box;top: 0;bottom: 0;left: 50%;z-index: 0;}#sk-container-id-10 div.sk-serial {display: flex;flex-direction: column;align-items: center;background-color: white;padding-right: 0.2em;padding-left: 0.2em;position: relative;}#sk-container-id-10 div.sk-item {position: relative;z-index: 1;}#sk-container-id-10 div.sk-parallel {display: flex;align-items: stretch;justify-content: center;background-color: white;position: relative;}#sk-container-id-10 div.sk-item::before, #sk-container-id-10 div.sk-parallel-item::before {content: \"\";position: absolute;border-left: 1px solid gray;box-sizing: border-box;top: 0;bottom: 0;left: 50%;z-index: -1;}#sk-container-id-10 div.sk-parallel-item {display: flex;flex-direction: column;z-index: 1;position: relative;background-color: white;}#sk-container-id-10 div.sk-parallel-item:first-child::after {align-self: flex-end;width: 50%;}#sk-container-id-10 div.sk-parallel-item:last-child::after {align-self: flex-start;width: 50%;}#sk-container-id-10 div.sk-parallel-item:only-child::after {width: 0;}#sk-container-id-10 div.sk-dashed-wrapped {border: 1px dashed gray;margin: 0 0.4em 0.5em 0.4em;box-sizing: border-box;padding-bottom: 0.4em;background-color: white;}#sk-container-id-10 div.sk-label label {font-family: monospace;font-weight: bold;display: inline-block;line-height: 1.2em;}#sk-container-id-10 div.sk-label-container {text-align: center;}#sk-container-id-10 div.sk-container {/* jupyter's `normalize.less` sets `[hidden] { display: none; }` but bootstrap.min.css set `[hidden] { display: none !important; }` so we also need the `!important` here to be able to override the default hidden behavior on the sphinx rendered scikit-learn.org. See: https://github.com/scikit-learn/scikit-learn/issues/21755 */display: inline-block !important;position: relative;}#sk-container-id-10 div.sk-text-repr-fallback {display: none;}</style><div id=\"sk-container-id-10\" class=\"sk-top-container\"><div class=\"sk-text-repr-fallback\"><pre>LinearRegression()</pre><b>In a Jupyter environment, please rerun this cell to show the HTML representation or trust the notebook. <br />On GitHub, the HTML representation is unable to render, please try loading this page with nbviewer.org.</b></div><div class=\"sk-container\" hidden><div class=\"sk-item\"><div class=\"sk-estimator sk-toggleable\"><input class=\"sk-toggleable__control sk-hidden--visually\" id=\"sk-estimator-id-16\" type=\"checkbox\" checked><label for=\"sk-estimator-id-16\" class=\"sk-toggleable__label sk-toggleable__label-arrow\">LinearRegression</label><div class=\"sk-toggleable__content\"><pre>LinearRegression()</pre></div></div></div></div></div>"
      ],
      "text/plain": [
       "LinearRegression()"
      ]
     },
     "execution_count": 218,
     "metadata": {},
     "output_type": "execute_result"
    }
   ],
   "source": [
    "# A simple linear regression to predict the heating load values\n",
    "from sklearn.linear_model import LinearRegression\n",
    "lin_reg = LinearRegression()\n",
    "lin_reg.fit(data_prepared, data_labels)"
   ]
  },
  {
   "cell_type": "code",
   "execution_count": 219,
   "metadata": {},
   "outputs": [
    {
     "name": "stdout",
     "output_type": "stream",
     "text": [
      "Predictions: [26.92318169 27.38620319 22.28653195 23.26223856 30.06294434]\n"
     ]
    }
   ],
   "source": [
    "# Prediction of Linear Regression  on training set\n",
    "data_some = data.iloc[:5]\n",
    "labels_some = data_labels.iloc[:5]\n",
    "some_data_prepared = full_pipeline.transform(data_some)\n",
    "\n",
    "print(\"Predictions:\", lin_reg.predict(some_data_prepared))"
   ]
  },
  {
   "cell_type": "code",
   "execution_count": 220,
   "metadata": {},
   "outputs": [
    {
     "name": "stdout",
     "output_type": "stream",
     "text": [
      "Labels: [15.08, 15.19, 32.31, 41.67, 29.63]\n"
     ]
    }
   ],
   "source": [
    "print(\"Labels:\", list(labels_some)) #Shows the exsiting values"
   ]
  },
  {
   "cell_type": "code",
   "execution_count": 221,
   "metadata": {},
   "outputs": [
    {
     "data": {
      "text/plain": [
       "array([[ 2.91777494, -0.38402974, -0.07853703, -1.7637917 ,  0.98089507,\n",
       "        -1.28033132, -1.70240355, -1.78307645,  0.        ,  0.        ,\n",
       "         1.        ],\n",
       "       [ 2.91777494, -0.38402974,  0.05924262, -1.36832274,  1.35814697,\n",
       "        -0.43660472, -1.70240355, -1.78307645,  1.        ,  0.        ,\n",
       "         0.        ],\n",
       "       [ 0.80538912, -1.68878394, -0.49221705, -1.56605722,  0.26411647,\n",
       "         0.72145141, -1.70240355, -1.78307645,  1.        ,  0.        ,\n",
       "         0.        ],\n",
       "       [ 0.19211582, -1.30995531, -0.49221705, -1.12653652,  0.60364318,\n",
       "         0.43193737, -1.70240355, -1.78307645,  0.        ,  1.        ,\n",
       "         0.        ],\n",
       "       [ 0.8735306 , -1.32803372,  1.11629225, -1.12653652,  1.35814697,\n",
       "        -1.26378767, -1.70240355, -1.78307645,  1.        ,  0.        ,\n",
       "         0.        ]])"
      ]
     },
     "execution_count": 221,
     "metadata": {},
     "output_type": "execute_result"
    }
   ],
   "source": [
    "some_data_prepared #Shows the prepared data"
   ]
  },
  {
   "cell_type": "code",
   "execution_count": 222,
   "metadata": {},
   "outputs": [
    {
     "data": {
      "text/plain": [
       "3.4605726367564125"
      ]
     },
     "execution_count": 222,
     "metadata": {},
     "output_type": "execute_result"
    }
   ],
   "source": [
    "# MAE on the linear regressionin relation to the training set\n",
    "from sklearn.metrics import mean_absolute_error\n",
    "data_predictions = lin_reg.predict(data_prepared) \n",
    "lin_mae = mean_absolute_error(data_labels, data_predictions) \n",
    "lin_mae"
   ]
  },
  {
   "cell_type": "code",
   "execution_count": 223,
   "metadata": {},
   "outputs": [
    {
     "data": {
      "text/plain": [
       "4.522586051646868"
      ]
     },
     "execution_count": 223,
     "metadata": {},
     "output_type": "execute_result"
    }
   ],
   "source": [
    "# RMSE on the linear regressionin relation to the training set\n",
    "from sklearn.metrics import mean_squared_error\n",
    "data_predictions = lin_reg.predict(data_prepared)\n",
    "lin_mse = mean_squared_error(data_labels, data_predictions)\n",
    "lin_rmse = np.sqrt(lin_mse)\n",
    "lin_rmse"
   ]
  },
  {
   "cell_type": "code",
   "execution_count": 224,
   "metadata": {},
   "outputs": [
    {
     "data": {
      "text/plain": [
       "{'copy_X': True, 'fit_intercept': True, 'n_jobs': None, 'positive': False}"
      ]
     },
     "execution_count": 224,
     "metadata": {},
     "output_type": "execute_result"
    }
   ],
   "source": [
    "#Shows the parameters of the linear regression \n",
    "lin_reg.get_params()"
   ]
  },
  {
   "cell_type": "code",
   "execution_count": 227,
   "metadata": {},
   "outputs": [
    {
     "name": "stdout",
     "output_type": "stream",
     "text": [
      "Fitting 10 folds for each of 2 candidates, totalling 20 fits\n"
     ]
    },
    {
     "data": {
      "text/html": [
       "<style>#sk-container-id-11 {color: black;background-color: white;}#sk-container-id-11 pre{padding: 0;}#sk-container-id-11 div.sk-toggleable {background-color: white;}#sk-container-id-11 label.sk-toggleable__label {cursor: pointer;display: block;width: 100%;margin-bottom: 0;padding: 0.3em;box-sizing: border-box;text-align: center;}#sk-container-id-11 label.sk-toggleable__label-arrow:before {content: \"▸\";float: left;margin-right: 0.25em;color: #696969;}#sk-container-id-11 label.sk-toggleable__label-arrow:hover:before {color: black;}#sk-container-id-11 div.sk-estimator:hover label.sk-toggleable__label-arrow:before {color: black;}#sk-container-id-11 div.sk-toggleable__content {max-height: 0;max-width: 0;overflow: hidden;text-align: left;background-color: #f0f8ff;}#sk-container-id-11 div.sk-toggleable__content pre {margin: 0.2em;color: black;border-radius: 0.25em;background-color: #f0f8ff;}#sk-container-id-11 input.sk-toggleable__control:checked~div.sk-toggleable__content {max-height: 200px;max-width: 100%;overflow: auto;}#sk-container-id-11 input.sk-toggleable__control:checked~label.sk-toggleable__label-arrow:before {content: \"▾\";}#sk-container-id-11 div.sk-estimator input.sk-toggleable__control:checked~label.sk-toggleable__label {background-color: #d4ebff;}#sk-container-id-11 div.sk-label input.sk-toggleable__control:checked~label.sk-toggleable__label {background-color: #d4ebff;}#sk-container-id-11 input.sk-hidden--visually {border: 0;clip: rect(1px 1px 1px 1px);clip: rect(1px, 1px, 1px, 1px);height: 1px;margin: -1px;overflow: hidden;padding: 0;position: absolute;width: 1px;}#sk-container-id-11 div.sk-estimator {font-family: monospace;background-color: #f0f8ff;border: 1px dotted black;border-radius: 0.25em;box-sizing: border-box;margin-bottom: 0.5em;}#sk-container-id-11 div.sk-estimator:hover {background-color: #d4ebff;}#sk-container-id-11 div.sk-parallel-item::after {content: \"\";width: 100%;border-bottom: 1px solid gray;flex-grow: 1;}#sk-container-id-11 div.sk-label:hover label.sk-toggleable__label {background-color: #d4ebff;}#sk-container-id-11 div.sk-serial::before {content: \"\";position: absolute;border-left: 1px solid gray;box-sizing: border-box;top: 0;bottom: 0;left: 50%;z-index: 0;}#sk-container-id-11 div.sk-serial {display: flex;flex-direction: column;align-items: center;background-color: white;padding-right: 0.2em;padding-left: 0.2em;position: relative;}#sk-container-id-11 div.sk-item {position: relative;z-index: 1;}#sk-container-id-11 div.sk-parallel {display: flex;align-items: stretch;justify-content: center;background-color: white;position: relative;}#sk-container-id-11 div.sk-item::before, #sk-container-id-11 div.sk-parallel-item::before {content: \"\";position: absolute;border-left: 1px solid gray;box-sizing: border-box;top: 0;bottom: 0;left: 50%;z-index: -1;}#sk-container-id-11 div.sk-parallel-item {display: flex;flex-direction: column;z-index: 1;position: relative;background-color: white;}#sk-container-id-11 div.sk-parallel-item:first-child::after {align-self: flex-end;width: 50%;}#sk-container-id-11 div.sk-parallel-item:last-child::after {align-self: flex-start;width: 50%;}#sk-container-id-11 div.sk-parallel-item:only-child::after {width: 0;}#sk-container-id-11 div.sk-dashed-wrapped {border: 1px dashed gray;margin: 0 0.4em 0.5em 0.4em;box-sizing: border-box;padding-bottom: 0.4em;background-color: white;}#sk-container-id-11 div.sk-label label {font-family: monospace;font-weight: bold;display: inline-block;line-height: 1.2em;}#sk-container-id-11 div.sk-label-container {text-align: center;}#sk-container-id-11 div.sk-container {/* jupyter's `normalize.less` sets `[hidden] { display: none; }` but bootstrap.min.css set `[hidden] { display: none !important; }` so we also need the `!important` here to be able to override the default hidden behavior on the sphinx rendered scikit-learn.org. See: https://github.com/scikit-learn/scikit-learn/issues/21755 */display: inline-block !important;position: relative;}#sk-container-id-11 div.sk-text-repr-fallback {display: none;}</style><div id=\"sk-container-id-11\" class=\"sk-top-container\"><div class=\"sk-text-repr-fallback\"><pre>GridSearchCV(cv=10, estimator=LinearRegression(), n_jobs=-1,\n",
       "             param_grid={&#x27;positive&#x27;: [True, False]}, verbose=2)</pre><b>In a Jupyter environment, please rerun this cell to show the HTML representation or trust the notebook. <br />On GitHub, the HTML representation is unable to render, please try loading this page with nbviewer.org.</b></div><div class=\"sk-container\" hidden><div class=\"sk-item sk-dashed-wrapped\"><div class=\"sk-label-container\"><div class=\"sk-label sk-toggleable\"><input class=\"sk-toggleable__control sk-hidden--visually\" id=\"sk-estimator-id-17\" type=\"checkbox\" ><label for=\"sk-estimator-id-17\" class=\"sk-toggleable__label sk-toggleable__label-arrow\">GridSearchCV</label><div class=\"sk-toggleable__content\"><pre>GridSearchCV(cv=10, estimator=LinearRegression(), n_jobs=-1,\n",
       "             param_grid={&#x27;positive&#x27;: [True, False]}, verbose=2)</pre></div></div></div><div class=\"sk-parallel\"><div class=\"sk-parallel-item\"><div class=\"sk-item\"><div class=\"sk-label-container\"><div class=\"sk-label sk-toggleable\"><input class=\"sk-toggleable__control sk-hidden--visually\" id=\"sk-estimator-id-18\" type=\"checkbox\" ><label for=\"sk-estimator-id-18\" class=\"sk-toggleable__label sk-toggleable__label-arrow\">estimator: LinearRegression</label><div class=\"sk-toggleable__content\"><pre>LinearRegression()</pre></div></div></div><div class=\"sk-serial\"><div class=\"sk-item\"><div class=\"sk-estimator sk-toggleable\"><input class=\"sk-toggleable__control sk-hidden--visually\" id=\"sk-estimator-id-19\" type=\"checkbox\" ><label for=\"sk-estimator-id-19\" class=\"sk-toggleable__label sk-toggleable__label-arrow\">LinearRegression</label><div class=\"sk-toggleable__content\"><pre>LinearRegression()</pre></div></div></div></div></div></div></div></div></div></div>"
      ],
      "text/plain": [
       "GridSearchCV(cv=10, estimator=LinearRegression(), n_jobs=-1,\n",
       "             param_grid={'positive': [True, False]}, verbose=2)"
      ]
     },
     "execution_count": 227,
     "metadata": {},
     "output_type": "execute_result"
    }
   ],
   "source": [
    "from sklearn.model_selection import GridSearchCV #Grid search to find the best parameters\n",
    "param_grid = {\"positive\" : [True, False] }\n",
    "lin_reg_grid = GridSearchCV(lin_reg, param_grid,cv=10,verbose=2, n_jobs =-1) #10-fold cross validation \n",
    "lin_reg_grid.fit(data_prepared, data_labels)"
   ]
  },
  {
   "cell_type": "code",
   "execution_count": 228,
   "metadata": {},
   "outputs": [
    {
     "data": {
      "text/html": [
       "<div>\n",
       "<style scoped>\n",
       "    .dataframe tbody tr th:only-of-type {\n",
       "        vertical-align: middle;\n",
       "    }\n",
       "\n",
       "    .dataframe tbody tr th {\n",
       "        vertical-align: top;\n",
       "    }\n",
       "\n",
       "    .dataframe thead th {\n",
       "        text-align: right;\n",
       "    }\n",
       "</style>\n",
       "<table border=\"1\" class=\"dataframe\">\n",
       "  <thead>\n",
       "    <tr style=\"text-align: right;\">\n",
       "      <th></th>\n",
       "      <th>mean_fit_time</th>\n",
       "      <th>std_fit_time</th>\n",
       "      <th>mean_score_time</th>\n",
       "      <th>std_score_time</th>\n",
       "      <th>param_positive</th>\n",
       "      <th>params</th>\n",
       "      <th>split0_test_score</th>\n",
       "      <th>split1_test_score</th>\n",
       "      <th>split2_test_score</th>\n",
       "      <th>split3_test_score</th>\n",
       "      <th>split4_test_score</th>\n",
       "      <th>split5_test_score</th>\n",
       "      <th>split6_test_score</th>\n",
       "      <th>split7_test_score</th>\n",
       "      <th>split8_test_score</th>\n",
       "      <th>split9_test_score</th>\n",
       "      <th>mean_test_score</th>\n",
       "      <th>std_test_score</th>\n",
       "      <th>rank_test_score</th>\n",
       "    </tr>\n",
       "  </thead>\n",
       "  <tbody>\n",
       "    <tr>\n",
       "      <th>0</th>\n",
       "      <td>0.034701</td>\n",
       "      <td>0.016324</td>\n",
       "      <td>0.007499</td>\n",
       "      <td>0.004569</td>\n",
       "      <td>True</td>\n",
       "      <td>{'positive': True}</td>\n",
       "      <td>0.78129</td>\n",
       "      <td>0.766699</td>\n",
       "      <td>0.786477</td>\n",
       "      <td>0.786866</td>\n",
       "      <td>0.731701</td>\n",
       "      <td>0.769362</td>\n",
       "      <td>0.737254</td>\n",
       "      <td>0.733137</td>\n",
       "      <td>0.681500</td>\n",
       "      <td>0.772499</td>\n",
       "      <td>0.754679</td>\n",
       "      <td>0.031755</td>\n",
       "      <td>2</td>\n",
       "    </tr>\n",
       "    <tr>\n",
       "      <th>1</th>\n",
       "      <td>0.010500</td>\n",
       "      <td>0.007953</td>\n",
       "      <td>0.002200</td>\n",
       "      <td>0.000600</td>\n",
       "      <td>False</td>\n",
       "      <td>{'positive': False}</td>\n",
       "      <td>0.80659</td>\n",
       "      <td>0.794199</td>\n",
       "      <td>0.785071</td>\n",
       "      <td>0.814314</td>\n",
       "      <td>0.743858</td>\n",
       "      <td>0.814885</td>\n",
       "      <td>0.776228</td>\n",
       "      <td>0.747022</td>\n",
       "      <td>0.710252</td>\n",
       "      <td>0.833205</td>\n",
       "      <td>0.782562</td>\n",
       "      <td>0.036560</td>\n",
       "      <td>1</td>\n",
       "    </tr>\n",
       "  </tbody>\n",
       "</table>\n",
       "</div>"
      ],
      "text/plain": [
       "   mean_fit_time  std_fit_time  mean_score_time  std_score_time  \\\n",
       "0       0.034701      0.016324         0.007499        0.004569   \n",
       "1       0.010500      0.007953         0.002200        0.000600   \n",
       "\n",
       "  param_positive               params  split0_test_score  split1_test_score  \\\n",
       "0           True   {'positive': True}            0.78129           0.766699   \n",
       "1          False  {'positive': False}            0.80659           0.794199   \n",
       "\n",
       "   split2_test_score  split3_test_score  split4_test_score  split5_test_score  \\\n",
       "0           0.786477           0.786866           0.731701           0.769362   \n",
       "1           0.785071           0.814314           0.743858           0.814885   \n",
       "\n",
       "   split6_test_score  split7_test_score  split8_test_score  split9_test_score  \\\n",
       "0           0.737254           0.733137           0.681500           0.772499   \n",
       "1           0.776228           0.747022           0.710252           0.833205   \n",
       "\n",
       "   mean_test_score  std_test_score  rank_test_score  \n",
       "0         0.754679        0.031755                2  \n",
       "1         0.782562        0.036560                1  "
      ]
     },
     "execution_count": 228,
     "metadata": {},
     "output_type": "execute_result"
    }
   ],
   "source": [
    "# Cross validation results in full as a dataframe\n",
    "pd.DataFrame(lin_reg_grid.cv_results_)"
   ]
  },
  {
   "cell_type": "code",
   "execution_count": 232,
   "metadata": {},
   "outputs": [
    {
     "data": {
      "text/plain": [
       "0.7825623736612223"
      ]
     },
     "execution_count": 232,
     "metadata": {},
     "output_type": "execute_result"
    }
   ],
   "source": [
    "# The best possible score from the grid search\n",
    "lin_reg_grid.best_score_"
   ]
  },
  {
   "cell_type": "code",
   "execution_count": 231,
   "metadata": {},
   "outputs": [
    {
     "data": {
      "text/plain": [
       "{'positive': False}"
      ]
     },
     "execution_count": 231,
     "metadata": {},
     "output_type": "execute_result"
    }
   ],
   "source": [
    "# The best hyperparameter combination found\n",
    "lin_reg_grid.best_params_"
   ]
  },
  {
   "attachments": {},
   "cell_type": "markdown",
   "metadata": {},
   "source": [
    "<h2><b><u>neural network regression</u></b></h2>\n",
    "\n",
    "Neural networks  Neural networks are a type of supervised learning algorithm and are used to solve a wide range of problems, including regression, classification, and clustering. Which means that they learn from a training dataset that contains both the input variables and the output variables that we are trying to predict. The training dataset is used to train the neural network, which means that the neural network learns the relationships between the input variables and the output variables. Once the neural network has been trained, it can be used to make predictions on new data."
   ]
  },
  {
   "cell_type": "code",
   "execution_count": 180,
   "metadata": {},
   "outputs": [],
   "source": [
    "# Import required libraries\n",
    "import pandas as pd\n",
    "import numpy as np \n",
    "import matplotlib.pyplot as plt\n",
    "import sklearn\n",
    "from sklearn.neural_network import MLPClassifier\n",
    "from sklearn.neural_network import MLPRegressor\n",
    "\n",
    "# Import necessary modules\n",
    "from sklearn.model_selection import train_test_split\n",
    "from sklearn.metrics import mean_squared_error\n",
    "from math import sqrt\n",
    "from sklearn.metrics import r2_score"
   ]
  },
  {
   "cell_type": "code",
   "execution_count": 186,
   "metadata": {},
   "outputs": [
    {
     "name": "stdout",
     "output_type": "stream",
     "text": [
      "(768, 10)\n"
     ]
    },
    {
     "data": {
      "text/html": [
       "<div>\n",
       "<style scoped>\n",
       "    .dataframe tbody tr th:only-of-type {\n",
       "        vertical-align: middle;\n",
       "    }\n",
       "\n",
       "    .dataframe tbody tr th {\n",
       "        vertical-align: top;\n",
       "    }\n",
       "\n",
       "    .dataframe thead th {\n",
       "        text-align: right;\n",
       "    }\n",
       "</style>\n",
       "<table border=\"1\" class=\"dataframe\">\n",
       "  <thead>\n",
       "    <tr style=\"text-align: right;\">\n",
       "      <th></th>\n",
       "      <th>count</th>\n",
       "      <th>mean</th>\n",
       "      <th>std</th>\n",
       "      <th>min</th>\n",
       "      <th>25%</th>\n",
       "      <th>50%</th>\n",
       "      <th>75%</th>\n",
       "      <th>max</th>\n",
       "    </tr>\n",
       "  </thead>\n",
       "  <tbody>\n",
       "    <tr>\n",
       "      <th>X1</th>\n",
       "      <td>768.0</td>\n",
       "      <td>0.763516</td>\n",
       "      <td>0.147093</td>\n",
       "      <td>0.50</td>\n",
       "      <td>0.6500</td>\n",
       "      <td>0.750</td>\n",
       "      <td>0.8600</td>\n",
       "      <td>1.19</td>\n",
       "    </tr>\n",
       "    <tr>\n",
       "      <th>X2</th>\n",
       "      <td>768.0</td>\n",
       "      <td>666.768997</td>\n",
       "      <td>120.863329</td>\n",
       "      <td>416.74</td>\n",
       "      <td>575.5100</td>\n",
       "      <td>661.500</td>\n",
       "      <td>741.1300</td>\n",
       "      <td>978.29</td>\n",
       "    </tr>\n",
       "    <tr>\n",
       "      <th>X3</th>\n",
       "      <td>728.0</td>\n",
       "      <td>321.102527</td>\n",
       "      <td>60.479340</td>\n",
       "      <td>198.45</td>\n",
       "      <td>277.8300</td>\n",
       "      <td>315.320</td>\n",
       "      <td>355.7400</td>\n",
       "      <td>503.97</td>\n",
       "    </tr>\n",
       "    <tr>\n",
       "      <th>X4</th>\n",
       "      <td>768.0</td>\n",
       "      <td>176.564141</td>\n",
       "      <td>51.280618</td>\n",
       "      <td>89.31</td>\n",
       "      <td>132.3000</td>\n",
       "      <td>178.235</td>\n",
       "      <td>218.3000</td>\n",
       "      <td>266.80</td>\n",
       "    </tr>\n",
       "    <tr>\n",
       "      <th>X5</th>\n",
       "      <td>768.0</td>\n",
       "      <td>5.229766</td>\n",
       "      <td>1.844813</td>\n",
       "      <td>2.84</td>\n",
       "      <td>3.4700</td>\n",
       "      <td>4.955</td>\n",
       "      <td>6.9300</td>\n",
       "      <td>8.47</td>\n",
       "    </tr>\n",
       "    <tr>\n",
       "      <th>X6</th>\n",
       "      <td>768.0</td>\n",
       "      <td>3.527331</td>\n",
       "      <td>1.245710</td>\n",
       "      <td>1.62</td>\n",
       "      <td>2.4275</td>\n",
       "      <td>3.600</td>\n",
       "      <td>4.4250</td>\n",
       "      <td>6.05</td>\n",
       "    </tr>\n",
       "    <tr>\n",
       "      <th>X7</th>\n",
       "      <td>768.0</td>\n",
       "      <td>0.237852</td>\n",
       "      <td>0.139736</td>\n",
       "      <td>0.00</td>\n",
       "      <td>0.1000</td>\n",
       "      <td>0.240</td>\n",
       "      <td>0.3600</td>\n",
       "      <td>0.48</td>\n",
       "    </tr>\n",
       "    <tr>\n",
       "      <th>X8</th>\n",
       "      <td>768.0</td>\n",
       "      <td>2.803737</td>\n",
       "      <td>1.597817</td>\n",
       "      <td>0.00</td>\n",
       "      <td>1.5175</td>\n",
       "      <td>2.970</td>\n",
       "      <td>3.9600</td>\n",
       "      <td>6.05</td>\n",
       "    </tr>\n",
       "    <tr>\n",
       "      <th>Y</th>\n",
       "      <td>768.0</td>\n",
       "      <td>22.307201</td>\n",
       "      <td>10.090196</td>\n",
       "      <td>6.01</td>\n",
       "      <td>12.9925</td>\n",
       "      <td>18.950</td>\n",
       "      <td>31.6675</td>\n",
       "      <td>43.10</td>\n",
       "    </tr>\n",
       "  </tbody>\n",
       "</table>\n",
       "</div>"
      ],
      "text/plain": [
       "    count        mean         std     min       25%      50%       75%     max\n",
       "X1  768.0    0.763516    0.147093    0.50    0.6500    0.750    0.8600    1.19\n",
       "X2  768.0  666.768997  120.863329  416.74  575.5100  661.500  741.1300  978.29\n",
       "X3  728.0  321.102527   60.479340  198.45  277.8300  315.320  355.7400  503.97\n",
       "X4  768.0  176.564141   51.280618   89.31  132.3000  178.235  218.3000  266.80\n",
       "X5  768.0    5.229766    1.844813    2.84    3.4700    4.955    6.9300    8.47\n",
       "X6  768.0    3.527331    1.245710    1.62    2.4275    3.600    4.4250    6.05\n",
       "X7  768.0    0.237852    0.139736    0.00    0.1000    0.240    0.3600    0.48\n",
       "X8  768.0    2.803737    1.597817    0.00    1.5175    2.970    3.9600    6.05\n",
       "Y   768.0   22.307201   10.090196    6.01   12.9925   18.950   31.6675   43.10"
      ]
     },
     "execution_count": 186,
     "metadata": {},
     "output_type": "execute_result"
    }
   ],
   "source": [
    "data = pd.read_csv('datcw_na.csv') \n",
    "print(data.shape)\n",
    "data.describe().transpose() #statistical summary of the data"
   ]
  },
  {
   "cell_type": "code",
   "execution_count": null,
   "metadata": {},
   "outputs": [],
   "source": [
    "target_column = ['X3'] \n",
    "predictors = list(set(list(data.columns))-set(target_column)) #predictors are all the columns except the target column\n",
    "data[predictors] = data[predictors].max() #normalising the data \n",
    "data.describe().transpose()"
   ]
  },
  {
   "cell_type": "code",
   "execution_count": 191,
   "metadata": {},
   "outputs": [
    {
     "name": "stdout",
     "output_type": "stream",
     "text": [
      "(537, 9)\n",
      "(231, 9)\n"
     ]
    }
   ],
   "source": [
    "X = data[predictors].values #Predictors\n",
    "y = data[target_column].values #Target\n",
    "\n",
    "X_train, X_test, y_train, y_test = train_test_split(X, y, test_size=0.3, random_state=42) #Splitting the data into training and testing sets \n",
    "print(X_train.shape); print(X_test.shape) #Shows the shape of the training and testing sets"
   ]
  },
  {
   "cell_type": "code",
   "execution_count": 234,
   "metadata": {},
   "outputs": [],
   "source": [
    "# Spliting data into training, validation, and test sets\n",
    "X_train_full, X_test, y_train_full, y_test = train_test_split(X, y, random_state=42)\n",
    "X_train, X_valid, y_train, y_valid = train_test_split(X_train_full, y_train_full, random_state=42)"
   ]
  },
  {
   "cell_type": "code",
   "execution_count": 137,
   "metadata": {},
   "outputs": [],
   "source": [
    "# Setting feature matrix using StandardScaler()\n",
    "scaler = StandardScaler()   # create a scaler object\n",
    "X_train = scaler.fit_transform(X_train) # fit and transform the data\n",
    "X_valid = scaler.transform(X_valid)\n",
    "X_test = scaler.transform(X_test)"
   ]
  },
  {
   "cell_type": "code",
   "execution_count": 146,
   "metadata": {},
   "outputs": [],
   "source": [
    "np.random.seed(42) # Set the random seed\n",
    "tf.random.set_seed(42) "
   ]
  },
  {
   "cell_type": "code",
   "execution_count": 173,
   "metadata": {},
   "outputs": [
    {
     "data": {
      "image/png": "[encoded data removed]",
      "text/plain": [
       "<Figure size 640x480 with 1 Axes>"
      ]
     },
     "metadata": {},
     "output_type": "display_data"
    }
   ],
   "source": [
    "plt.plot(pd.DataFrame(history.history)) #Plot the loss and accuracy of the model\n",
    "plt.grid(True)\n",
    "plt.gca().set_ylim(0, 1)\n",
    "plt.show()"
   ]
  },
  {
   "cell_type": "code",
   "execution_count": 157,
   "metadata": {},
   "outputs": [
    {
     "data": {
      "text/plain": [
       "array([[nan],\n",
       "       [nan],\n",
       "       [nan]], dtype=float32)"
      ]
     },
     "execution_count": 157,
     "metadata": {},
     "output_type": "execute_result"
    }
   ],
   "source": [
    "y_pred #predicted values"
   ]
  },
  {
   "cell_type": "code",
   "execution_count": 175,
   "metadata": {},
   "outputs": [],
   "source": [
    "input_ = keras.layers.Input(shape=X_train.shape[1:]) # input layer\n",
    "hidden1 = keras.layers.Dense(100, activation=\"relu\")(input_) # hidden layer\n",
    "hidden2 = keras.layers.Dense(50, activation=\"relu\")(hidden1) # hidden layer\n",
    "concat = keras.layers.concatenate([input_, hidden2])     # concatenate input and hidden layer\n",
    "output = keras.layers.Dense(1)(concat)                  # output layer\n",
    "model = keras.models.Model(inputs=[input_], outputs=[output]) # define model architecture"
   ]
  },
  {
   "cell_type": "code",
   "execution_count": 176,
   "metadata": {},
   "outputs": [
    {
     "name": "stdout",
     "output_type": "stream",
     "text": [
      "Model: \"model_2\"\n",
      "__________________________________________________________________________________________________\n",
      " Layer (type)                   Output Shape         Param #     Connected to                     \n",
      "==================================================================================================\n",
      " input_3 (InputLayer)           [(None, 9)]          0           []                               \n",
      "                                                                                                  \n",
      " dense_22 (Dense)               (None, 100)          1000        ['input_3[0][0]']                \n",
      "                                                                                                  \n",
      " dense_23 (Dense)               (None, 50)           5050        ['dense_22[0][0]']               \n",
      "                                                                                                  \n",
      " concatenate_2 (Concatenate)    (None, 59)           0           ['input_3[0][0]',                \n",
      "                                                                  'dense_23[0][0]']               \n",
      "                                                                                                  \n",
      " dense_24 (Dense)               (None, 1)            60          ['concatenate_2[0][0]']          \n",
      "                                                                                                  \n",
      "==================================================================================================\n",
      "Total params: 6,110\n",
      "Trainable params: 6,110\n",
      "Non-trainable params: 0\n",
      "__________________________________________________________________________________________________\n"
     ]
    }
   ],
   "source": [
    "model.summary() # summary of the model"
   ]
  },
  {
   "cell_type": "code",
   "execution_count": 177,
   "metadata": {},
   "outputs": [
    {
     "name": "stdout",
     "output_type": "stream",
     "text": [
      "Epoch 1/10\n",
      "14/14 [==============================] - 1s 23ms/step - loss: nan - val_loss: nan\n",
      "Epoch 2/10\n",
      "14/14 [==============================] - 0s 8ms/step - loss: nan - val_loss: nan\n",
      "Epoch 3/10\n",
      "14/14 [==============================] - 0s 11ms/step - loss: nan - val_loss: nan\n",
      "Epoch 4/10\n",
      "14/14 [==============================] - 0s 9ms/step - loss: nan - val_loss: nan\n",
      "Epoch 5/10\n",
      "14/14 [==============================] - 0s 9ms/step - loss: nan - val_loss: nan\n",
      "Epoch 6/10\n",
      "14/14 [==============================] - 0s 9ms/step - loss: nan - val_loss: nan\n",
      "Epoch 7/10\n",
      "14/14 [==============================] - 0s 11ms/step - loss: nan - val_loss: nan\n",
      "Epoch 8/10\n",
      "14/14 [==============================] - 0s 9ms/step - loss: nan - val_loss: nan\n",
      "Epoch 9/10\n",
      "14/14 [==============================] - 0s 10ms/step - loss: nan - val_loss: nan\n",
      "Epoch 10/10\n",
      "14/14 [==============================] - 0s 12ms/step - loss: nan - val_loss: nan\n",
      "6/6 [==============================] - 0s 3ms/step - loss: nan\n",
      "1/1 [==============================] - 0s 105ms/step\n"
     ]
    }
   ],
   "source": [
    "model.compile(loss=\"mean_squared_error\", optimizer=keras.optimizers.SGD(learning_rate=1e-8)) # compile the model using mean squared error as the loss function and stochastic gradient descent as the optimiser\n",
    "history = model.fit(X_train, y_train, epochs=10, # fit the model to the training data over 10 epochs\n",
    "                    validation_data=(X_valid, y_valid)) # validate the model on the validation data\n",
    "mse_test = model.evaluate(X_test, y_test) # evaluate the model on the test data\n",
    "y_pred = model.predict(X_new) # predict the output for the new data"
   ]
  },
  {
   "attachments": {},
   "cell_type": "markdown",
   "metadata": {},
   "source": [
    "<h2><b><u>Conclusion</u></b></h2>\n",
    "\n",
    "In this notebook, we have seen how to use the scikit-learn library to implement the following regression algorithms: linear regression, polynomial regression, ridge regression, and neural network regression. We have used the scikit-learn library to evaluate the performance of the regression algorithms using the mean squared error and the coefficient of determination. We have also seen how to use the scikit-learn library to visualise the performance of the regression algorithms using different graphs. Based on my experience, I would recommend using the Polynomial Regression if you have a large dataset. I would've been more inclined to believe that Neural would be more beneficial as it eill be able to make predictions based on the outcome of the data. Unfortunately, I wasn't able to get it to work as I couldn't figure out the learning speed - resulting in the table displaying NaaN. ridge regression algorithm would be beneficial too, if you have a large dataset and think that only a subset of the input variables are actually useful.\n"
   ]
  },
  {
   "attachments": {},
   "cell_type": "markdown",
   "metadata": {},
   "source": [
    "<h2><b><u>References:</u></b></h2>\n",
    "\n",
    "https://builtin.com/machine-learning/how-to-preprocess-data-python\n",
    "\n",
    "https://www.kaggle.com/abhishekkrg/python-ml-regression-analysis\n",
    "\n",
    "Hands-On Machine Learning with Scikit-Learn and TensorFlow - Aurelin Geron\n",
    "\n",
    "https://scikit-learn.org/stable/modules/neural_networks_supervised.html\n",
    "\n",
    "http://scikit-learn.org/stable/modules/generated/sklearn.linear_model.Ridge.html\n",
    "\n",
    "https://www.tutorialspoint.com/scikit_learn/scikit_learn_ridge_regression.htm\n",
    "\n",
    "https://www.tutorialspoint.com/scikit_learn/scikit_learn_polynomial_regression.htm\n",
    "\n",
    "http://scikit-learn.org/stable/modules/generated/sklearn.preprocessing.PolynomialFeatures.html\n",
    "\n",
    "https://pypi.org/project/scikit-neuralnetwork/\n",
    "\n",
    "\n",
    "\n",
    "\n",
    "\n",
    "\n"
   ]
  }
 ],
 "metadata": {
  "kernelspec": {
   "display_name": "Python 3",
   "language": "python",
   "name": "python3"
  },
  "language_info": {
   "codemirror_mode": {
    "name": "ipython",
    "version": 3
   },
   "file_extension": ".py",
   "mimetype": "text/x-python",
   "name": "python",
   "nbconvert_exporter": "python",
   "pygments_lexer": "ipython3",
   "version": "3.10.10"
  },
  "orig_nbformat": 4
 },
 "nbformat": 4,
 "nbformat_minor": 2
}
